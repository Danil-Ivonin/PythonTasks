{
  "cells": [
    {
      "cell_type": "code",
      "execution_count": null,
      "metadata": {
        "id": "GrMuXus5bcZA"
      },
      "outputs": [],
      "source": [
        "import numpy as np\n",
        "import torch\n",
        "import torchvision\n",
        "from torchvision import datasets\n",
        "from torchvision import transforms\n",
        "from tqdm import tqdm\n",
        "from tqdm.contrib import itertools\n",
        "import torch.nn as nn\n",
        "from torch.utils.data import DataLoader\n",
        "import matplotlib.pyplot as plt\n",
        "from sklearn.metrics import classification_report, accuracy_score\n",
        "from sklearn.neighbors import KNeighborsClassifier\n",
        "from sklearn.decomposition import PCA"
      ]
    },
    {
      "cell_type": "code",
      "execution_count": null,
      "metadata": {
        "id": "3LTrKvwbbcZB",
        "outputId": "f5bbe8d5-2375-4950-ab01-9909abcb1a0d"
      },
      "outputs": [],
      "source": [
        "# Создание и нормализация обучающей, тестовой и выборки валидации\n",
        "\n",
        "batch_size = 32\n",
        "\n",
        "transform = transforms.Compose([transforms.ToTensor(),\n",
        "                                transforms.Resize((256, 256)),\n",
        "                                transforms.Normalize((0.5, 0.5, 0.5), (0.5, 0.5, 0.5))])\n",
        "\n",
        "train_path = \"C:/Users/das-s/Downloads/Plants Classification/train\"\n",
        "train_ds = datasets.ImageFolder(root=train_path, transform=transform)\n",
        "train_dataloader = DataLoader(train_ds, batch_size=batch_size, shuffle=True)\n",
        "\n",
        "test_path = \"C:/Users/das-s/Downloads/Plants Classification/test\"\n",
        "test_ds = datasets.ImageFolder(root=test_path, transform=transform)\n",
        "test_dataloader = DataLoader(test_ds, batch_size=batch_size, shuffle=True)"
      ]
    },
    {
      "cell_type": "code",
      "execution_count": null,
      "metadata": {},
      "outputs": [],
      "source": [
        "def imshow(img):\n",
        "    img = img / 2 + 0.5     # unnormalize\n",
        "    npimg = img.numpy()\n",
        "    plt.imshow(np.transpose(npimg, (1, 2, 0)))\n",
        "    plt.show()"
      ]
    },
    {
      "cell_type": "code",
      "execution_count": null,
      "metadata": {},
      "outputs": [],
      "source": [
        "train_features, train_labels = next(iter(train_dataloader))\n",
        "print(f\"Feature batch shape: {train_features.size()}\")\n",
        "print(f\"Labels batch shape: {train_labels.size()}\")\n",
        "images = []\n",
        "for i in range(4):\n",
        "    images.append(train_features[i])\n",
        "imshow(torchvision.utils.make_grid(images)) # show images\n",
        "print(' '.join(f'{train_ds.classes[train_labels[j]]}\\t' for j in range(4))) # print labels\n"
      ]
    },
    {
      "cell_type": "code",
      "execution_count": null,
      "metadata": {},
      "outputs": [],
      "source": [
        "# Функция формирования набора данных (картинки и метки)\n",
        "def extract_dataset_images(dataloader):\n",
        "  labels = []\n",
        "  images = []\n",
        "  for batch, batch_labels in tqdm(dataloader):\n",
        "    images.append(batch.detach().numpy().reshape((batch.shape[0], -1))) # Делаем картинки в виде векторов\n",
        "    labels.append(batch_labels.detach().numpy())\n",
        "  return np.concatenate(images), np.concatenate(labels)"
      ]
    },
    {
      "cell_type": "code",
      "execution_count": null,
      "metadata": {},
      "outputs": [],
      "source": [
        "x_train, y_train = extract_dataset_images(train_dataloader)\n",
        "x_test, y_test = extract_dataset_images(test_dataloader)"
      ]
    },
    {
      "cell_type": "markdown",
      "metadata": {},
      "source": [
        "# KNN"
      ]
    },
    {
      "cell_type": "code",
      "execution_count": null,
      "metadata": {},
      "outputs": [],
      "source": [
        "def train_and_test_KNN(x_train, y_train, x_test, y_test, n_neighbors, metric, weights):\n",
        "  # Обучение KNN на картинках\n",
        "  knn_classifier = KNeighborsClassifier(n_neighbors=n_neighbors, metric = metric, weights = weights)\n",
        "  knn_classifier.fit(x_train, y_train)\n",
        "\n",
        "  # Тестирование\n",
        "  # Классификация тестовых изображений с использованием KNN\n",
        "  y_pred = knn_classifier.predict(x_test)\n",
        "\n",
        "  accuracy = accuracy_score(y_test, y_pred)\n",
        "  return accuracy"
      ]
    },
    {
      "cell_type": "code",
      "execution_count": null,
      "metadata": {},
      "outputs": [],
      "source": [
        "def inverse_squared_distance(dist):\n",
        "    arr = []\n",
        "    for d in dist:\n",
        "        arr.append(1 / (d**2))\n",
        "    return arr"
      ]
    },
    {
      "cell_type": "code",
      "execution_count": null,
      "metadata": {},
      "outputs": [],
      "source": [
        "metrics_array = [\"minkowski\", \"euclidean\", \"cosine\"]\n",
        "weights_array = [\"uniform\", \"distance\", inverse_squared_distance]\n",
        "n_neighbors = [3, 5, 10, 20]"
      ]
    },
    {
      "cell_type": "code",
      "execution_count": null,
      "metadata": {},
      "outputs": [],
      "source": [
        "#KNN accuracy\n",
        "parameters = 0, \"\", \"\"\n",
        "accuracy = 0\n",
        "\n",
        "for metric, weights, n in itertools.product(metrics_array, weights_array, n_neighbors):\n",
        "    temp_accuracy = train_and_test_KNN(x_train, y_train, x_test, y_test, n, metric, weights)\n",
        "    if accuracy < temp_accuracy:\n",
        "        parameters = n, metric, weights\n",
        "        accuracy = temp_accuracy\n",
        "\n",
        "print(\"Best KNN accuracy:\")\n",
        "print(f\"n_neighbors = {parameters[0]} \\nmetric = {parameters[1]} \\nweights = {parameters[2]} \\naccuracy = {accuracy}\")"
      ]
    },
    {
      "cell_type": "markdown",
      "metadata": {},
      "source": [
        "# PCA+KNN"
      ]
    },
    {
      "cell_type": "code",
      "execution_count": null,
      "metadata": {},
      "outputs": [],
      "source": [
        "def train_and_test_PCA_KNN(x_train, y_train, x_test, y_test, n_components, knn_classifier):\n",
        "  pca = PCA(n_components=n_components)\n",
        "  x_train_pca = pca.fit_transform(x_train)\n",
        "  knn_classifier.fit(x_train_pca, y_train)\n",
        "\n",
        "  # Тестирование\n",
        "  # Применение созданного ранее PCA для тестовых данных\n",
        "  x_test_pca = pca.transform(x_test)\n",
        "  # Классификация тестовых изображений с использованием KNN\n",
        "  y_pred = knn_classifier.predict(x_test_pca)\n",
        "  accuracy = accuracy_score(y_test, y_pred)\n",
        "  return accuracy"
      ]
    },
    {
      "cell_type": "code",
      "execution_count": null,
      "metadata": {},
      "outputs": [],
      "source": [
        "n_components = [10, 50, 100, 200, 400]"
      ]
    },
    {
      "cell_type": "code",
      "execution_count": null,
      "metadata": {},
      "outputs": [],
      "source": [
        "#KNN + PCA accuracy\n",
        "parameters = 0, \"\", \"\", 0\n",
        "accuracy = 0\n",
        "\n",
        "for metric, weights, n_neigh, n_comp in itertools.product(metrics_array, weights_array, n_neighbors, n_components):\n",
        "    knn_classifier = KNeighborsClassifier(n_neighbors=n_neigh, metric = metric, weights = weights)\n",
        "    temp_accuracy = train_and_test_PCA_KNN(x_train, y_train, x_test, y_test, n_comp, knn_classifier)\n",
        "    if accuracy < temp_accuracy:\n",
        "        parameters = n_neigh, metric, weights, n_comp\n",
        "        accuracy = temp_accuracy\n",
        "\n",
        "print(\"Best KNN accuracy:\")\n",
        "print(f\"n_neighbors = {parameters[0]} \\nmetric = {parameters[1]} \\nweights = {parameters[2]} \\nn_components = {parameters[3]} \\naccuracy = {accuracy}\")"
      ]
    },
    {
      "cell_type": "markdown",
      "metadata": {},
      "source": [
        "# CNN+PCA+KNN"
      ]
    },
    {
      "cell_type": "code",
      "execution_count": null,
      "metadata": {},
      "outputs": [],
      "source": [
        "device = torch.device(\"cuda\" if torch.cuda.is_available() else \"cpu\")"
      ]
    },
    {
      "cell_type": "code",
      "execution_count": null,
      "metadata": {},
      "outputs": [],
      "source": [
        "from torchvision.models import vgg16\n",
        "model = vgg16(pretrained=True)\n",
        "model.classifier = nn.Flatten(start_dim= 1)\n",
        "model.to(device)"
      ]
    },
    {
      "cell_type": "code",
      "execution_count": null,
      "metadata": {},
      "outputs": [],
      "source": [
        "def extract_features(dataset, model):\n",
        "    features = []\n",
        "    labels = []\n",
        "    for batch_images, batch_labels in tqdm(dataset):\n",
        "        batch_features = model(batch_images.to(device))\n",
        "        labels.append(batch_labels.detach().numpy())\n",
        "        features.append(batch_features.cpu().detach().numpy())\n",
        "    return np.concatenate(features), np.concatenate(labels)"
      ]
    },
    {
      "cell_type": "code",
      "execution_count": null,
      "metadata": {},
      "outputs": [],
      "source": [
        "x_train_features, y_train_labels = extract_features(train_dataloader, model)\n",
        "x_test_features, y_test_labels = extract_features(test_dataloader, model)"
      ]
    },
    {
      "cell_type": "code",
      "execution_count": null,
      "metadata": {},
      "outputs": [],
      "source": [
        "#KNN + PCA + CNN accuracy\n",
        "parameters = 0, \"\", \"\", 0\n",
        "accuracy = 0\n",
        "\n",
        "for metric, weights, n_neigh, n_comp in itertools.product(metrics_array, weights_array, n_neighbors, n_components):\n",
        "    knn_classifier = KNeighborsClassifier(n_neighbors=n_neigh, metric = metric, weights = weights)\n",
        "    temp_accuracy = train_and_test_PCA_KNN(x_train_features, y_train_labels, x_test_features, y_test_labels, n_comp, knn_classifier)\n",
        "    if accuracy < temp_accuracy:\n",
        "        parameters = n_neigh, metric, weights, n_comp\n",
        "        accuracy = temp_accuracy\n",
        "\n",
        "print(\"Best KNN accuracy:\")\n",
        "print(f\"n_neighbors = {parameters[0]} \\nmetric = {parameters[1]} \\nweights = {parameters[2]} \\nn_components = {parameters[3]} \\naccuracy = {accuracy}\")"
      ]
    },
    {
      "cell_type": "code",
      "execution_count": null,
      "metadata": {},
      "outputs": [],
      "source": [
        "knn_classifier = KNeighborsClassifier(n_neighbors=parameters[0], metric=parameters[1], weights=parameters[2])\n",
        "pca = PCA(n_components=parameters[3])\n",
        "\n",
        "x_train_pca = pca.fit_transform(x_train_features)\n",
        "knn_classifier.fit(x_train_pca, y_train_labels)\n",
        "\n",
        "x_test_pca = pca.transform(x_test_features)\n",
        "y_pred = knn_classifier.predict(x_test_pca)\n",
        "\n",
        "print(classification_report(y_test_labels, y_pred, target_names=test_ds.classes))"
      ]
    }
  ],
  "metadata": {
    "colab": {
      "provenance": []
    },
    "kernelspec": {
      "display_name": "Python 3",
      "language": "python",
      "name": "python3"
    },
    "language_info": {
      "codemirror_mode": {
        "name": "ipython",
        "version": 3
      },
      "file_extension": ".py",
      "mimetype": "text/x-python",
      "name": "python",
      "nbconvert_exporter": "python",
      "pygments_lexer": "ipython3",
      "version": "3.11.6"
    }
  },
  "nbformat": 4,
  "nbformat_minor": 0
}
