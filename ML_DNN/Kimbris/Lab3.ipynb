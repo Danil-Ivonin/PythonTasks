{
  "cells": [
    {
      "cell_type": "code",
      "execution_count": 1,
      "metadata": {
        "id": "GrMuXus5bcZA"
      },
      "outputs": [],
      "source": [
        "import pandas as pd\n",
        "import numpy as np"
      ]
    },
    {
      "cell_type": "code",
      "execution_count": 2,
      "metadata": {
        "id": "3LTrKvwbbcZB",
        "outputId": "f5bbe8d5-2375-4950-ab01-9909abcb1a0d"
      },
      "outputs": [
        {
          "data": {
            "text/html": [
              "<div>\n",
              "<style scoped>\n",
              "    .dataframe tbody tr th:only-of-type {\n",
              "        vertical-align: middle;\n",
              "    }\n",
              "\n",
              "    .dataframe tbody tr th {\n",
              "        vertical-align: top;\n",
              "    }\n",
              "\n",
              "    .dataframe thead th {\n",
              "        text-align: right;\n",
              "    }\n",
              "</style>\n",
              "<table border=\"1\" class=\"dataframe\">\n",
              "  <thead>\n",
              "    <tr style=\"text-align: right;\">\n",
              "      <th></th>\n",
              "      <th>laptop_ID</th>\n",
              "      <th>Company</th>\n",
              "      <th>Product</th>\n",
              "      <th>TypeName</th>\n",
              "      <th>Inches</th>\n",
              "      <th>ScreenResolution</th>\n",
              "      <th>Cpu</th>\n",
              "      <th>Ram</th>\n",
              "      <th>Memory</th>\n",
              "      <th>Gpu</th>\n",
              "      <th>OpSys</th>\n",
              "      <th>Weight</th>\n",
              "      <th>Price_euros</th>\n",
              "    </tr>\n",
              "  </thead>\n",
              "  <tbody>\n",
              "    <tr>\n",
              "      <th>0</th>\n",
              "      <td>1</td>\n",
              "      <td>Apple</td>\n",
              "      <td>MacBook Pro</td>\n",
              "      <td>Ultrabook</td>\n",
              "      <td>13.3</td>\n",
              "      <td>IPS Panel Retina Display 2560x1600</td>\n",
              "      <td>Intel Core i5 2.3GHz</td>\n",
              "      <td>8GB</td>\n",
              "      <td>128GB SSD</td>\n",
              "      <td>Intel Iris Plus Graphics 640</td>\n",
              "      <td>macOS</td>\n",
              "      <td>1.37kg</td>\n",
              "      <td>1339.69</td>\n",
              "    </tr>\n",
              "    <tr>\n",
              "      <th>1</th>\n",
              "      <td>2</td>\n",
              "      <td>Apple</td>\n",
              "      <td>Macbook Air</td>\n",
              "      <td>Ultrabook</td>\n",
              "      <td>13.3</td>\n",
              "      <td>1440x900</td>\n",
              "      <td>Intel Core i5 1.8GHz</td>\n",
              "      <td>8GB</td>\n",
              "      <td>128GB Flash Storage</td>\n",
              "      <td>Intel HD Graphics 6000</td>\n",
              "      <td>macOS</td>\n",
              "      <td>1.34kg</td>\n",
              "      <td>898.94</td>\n",
              "    </tr>\n",
              "    <tr>\n",
              "      <th>2</th>\n",
              "      <td>3</td>\n",
              "      <td>HP</td>\n",
              "      <td>250 G6</td>\n",
              "      <td>Notebook</td>\n",
              "      <td>15.6</td>\n",
              "      <td>Full HD 1920x1080</td>\n",
              "      <td>Intel Core i5 7200U 2.5GHz</td>\n",
              "      <td>8GB</td>\n",
              "      <td>256GB SSD</td>\n",
              "      <td>Intel HD Graphics 620</td>\n",
              "      <td>No OS</td>\n",
              "      <td>1.86kg</td>\n",
              "      <td>575.00</td>\n",
              "    </tr>\n",
              "    <tr>\n",
              "      <th>3</th>\n",
              "      <td>4</td>\n",
              "      <td>Apple</td>\n",
              "      <td>MacBook Pro</td>\n",
              "      <td>Ultrabook</td>\n",
              "      <td>15.4</td>\n",
              "      <td>IPS Panel Retina Display 2880x1800</td>\n",
              "      <td>Intel Core i7 2.7GHz</td>\n",
              "      <td>16GB</td>\n",
              "      <td>512GB SSD</td>\n",
              "      <td>AMD Radeon Pro 455</td>\n",
              "      <td>macOS</td>\n",
              "      <td>1.83kg</td>\n",
              "      <td>2537.45</td>\n",
              "    </tr>\n",
              "    <tr>\n",
              "      <th>4</th>\n",
              "      <td>5</td>\n",
              "      <td>Apple</td>\n",
              "      <td>MacBook Pro</td>\n",
              "      <td>Ultrabook</td>\n",
              "      <td>13.3</td>\n",
              "      <td>IPS Panel Retina Display 2560x1600</td>\n",
              "      <td>Intel Core i5 3.1GHz</td>\n",
              "      <td>8GB</td>\n",
              "      <td>256GB SSD</td>\n",
              "      <td>Intel Iris Plus Graphics 650</td>\n",
              "      <td>macOS</td>\n",
              "      <td>1.37kg</td>\n",
              "      <td>1803.60</td>\n",
              "    </tr>\n",
              "  </tbody>\n",
              "</table>\n",
              "</div>"
            ],
            "text/plain": [
              "   laptop_ID Company      Product   TypeName  Inches  \\\n",
              "0          1   Apple  MacBook Pro  Ultrabook    13.3   \n",
              "1          2   Apple  Macbook Air  Ultrabook    13.3   \n",
              "2          3      HP       250 G6   Notebook    15.6   \n",
              "3          4   Apple  MacBook Pro  Ultrabook    15.4   \n",
              "4          5   Apple  MacBook Pro  Ultrabook    13.3   \n",
              "\n",
              "                     ScreenResolution                         Cpu   Ram  \\\n",
              "0  IPS Panel Retina Display 2560x1600        Intel Core i5 2.3GHz   8GB   \n",
              "1                            1440x900        Intel Core i5 1.8GHz   8GB   \n",
              "2                   Full HD 1920x1080  Intel Core i5 7200U 2.5GHz   8GB   \n",
              "3  IPS Panel Retina Display 2880x1800        Intel Core i7 2.7GHz  16GB   \n",
              "4  IPS Panel Retina Display 2560x1600        Intel Core i5 3.1GHz   8GB   \n",
              "\n",
              "                Memory                           Gpu  OpSys  Weight  \\\n",
              "0            128GB SSD  Intel Iris Plus Graphics 640  macOS  1.37kg   \n",
              "1  128GB Flash Storage        Intel HD Graphics 6000  macOS  1.34kg   \n",
              "2            256GB SSD         Intel HD Graphics 620  No OS  1.86kg   \n",
              "3            512GB SSD            AMD Radeon Pro 455  macOS  1.83kg   \n",
              "4            256GB SSD  Intel Iris Plus Graphics 650  macOS  1.37kg   \n",
              "\n",
              "   Price_euros  \n",
              "0      1339.69  \n",
              "1       898.94  \n",
              "2       575.00  \n",
              "3      2537.45  \n",
              "4      1803.60  "
            ]
          },
          "execution_count": 2,
          "metadata": {},
          "output_type": "execute_result"
        }
      ],
      "source": [
        "df = pd.read_csv('laptop_price.csv', encoding = 'latin-1')\n",
        "df.head()"
      ]
    },
    {
      "cell_type": "markdown",
      "metadata": {},
      "source": [
        "# Data cleaning"
      ]
    },
    {
      "cell_type": "code",
      "execution_count": 3,
      "metadata": {},
      "outputs": [
        {
          "name": "stdout",
          "output_type": "stream",
          "text": [
            "<class 'pandas.core.frame.DataFrame'>\n",
            "RangeIndex: 1303 entries, 0 to 1302\n",
            "Data columns (total 11 columns):\n",
            " #   Column            Non-Null Count  Dtype  \n",
            "---  ------            --------------  -----  \n",
            " 0   Company           1303 non-null   object \n",
            " 1   TypeName          1303 non-null   object \n",
            " 2   Inches            1303 non-null   float64\n",
            " 3   ScreenResolution  1303 non-null   object \n",
            " 4   Cpu               1303 non-null   object \n",
            " 5   Ram               1303 non-null   object \n",
            " 6   Memory            1303 non-null   object \n",
            " 7   Gpu               1303 non-null   object \n",
            " 8   OpSys             1303 non-null   object \n",
            " 9   Weight            1303 non-null   object \n",
            " 10  Price_euros       1303 non-null   float64\n",
            "dtypes: float64(2), object(9)\n",
            "memory usage: 112.1+ KB\n"
          ]
        }
      ],
      "source": [
        "df.drop('laptop_ID', axis=1, inplace=True)\n",
        "df.drop('Product', axis=1, inplace =True)\n",
        "df.info()"
      ]
    },
    {
      "cell_type": "code",
      "execution_count": 4,
      "metadata": {},
      "outputs": [
        {
          "data": {
            "text/plain": [
              "Company             0\n",
              "TypeName            0\n",
              "Inches              0\n",
              "ScreenResolution    0\n",
              "Cpu                 0\n",
              "Ram                 0\n",
              "Memory              0\n",
              "Gpu                 0\n",
              "OpSys               0\n",
              "Weight              0\n",
              "Price_euros         0\n",
              "dtype: int64"
            ]
          },
          "execution_count": 4,
          "metadata": {},
          "output_type": "execute_result"
        }
      ],
      "source": [
        "df.isna().sum() #Detect missing values"
      ]
    },
    {
      "cell_type": "code",
      "execution_count": 5,
      "metadata": {},
      "outputs": [
        {
          "data": {
            "text/plain": [
              "29"
            ]
          },
          "execution_count": 5,
          "metadata": {},
          "output_type": "execute_result"
        }
      ],
      "source": [
        "df.duplicated().sum()"
      ]
    },
    {
      "cell_type": "code",
      "execution_count": 6,
      "metadata": {},
      "outputs": [
        {
          "data": {
            "text/html": [
              "<div>\n",
              "<style scoped>\n",
              "    .dataframe tbody tr th:only-of-type {\n",
              "        vertical-align: middle;\n",
              "    }\n",
              "\n",
              "    .dataframe tbody tr th {\n",
              "        vertical-align: top;\n",
              "    }\n",
              "\n",
              "    .dataframe thead th {\n",
              "        text-align: right;\n",
              "    }\n",
              "</style>\n",
              "<table border=\"1\" class=\"dataframe\">\n",
              "  <thead>\n",
              "    <tr style=\"text-align: right;\">\n",
              "      <th></th>\n",
              "      <th>Company</th>\n",
              "      <th>TypeName</th>\n",
              "      <th>Inches</th>\n",
              "      <th>ScreenResolution</th>\n",
              "      <th>Cpu</th>\n",
              "      <th>Ram</th>\n",
              "      <th>Memory</th>\n",
              "      <th>Gpu</th>\n",
              "      <th>OpSys</th>\n",
              "      <th>Weight</th>\n",
              "      <th>Price_euros</th>\n",
              "    </tr>\n",
              "  </thead>\n",
              "  <tbody>\n",
              "    <tr>\n",
              "      <th>0</th>\n",
              "      <td>Apple</td>\n",
              "      <td>Ultrabook</td>\n",
              "      <td>13.3</td>\n",
              "      <td>IPS Panel Retina Display 2560x1600</td>\n",
              "      <td>Intel Core i5 2.3GHz</td>\n",
              "      <td>8GB</td>\n",
              "      <td>128GB SSD</td>\n",
              "      <td>Intel Iris Plus Graphics 640</td>\n",
              "      <td>macOS</td>\n",
              "      <td>1.37kg</td>\n",
              "      <td>1339.69</td>\n",
              "    </tr>\n",
              "    <tr>\n",
              "      <th>1</th>\n",
              "      <td>Apple</td>\n",
              "      <td>Ultrabook</td>\n",
              "      <td>13.3</td>\n",
              "      <td>1440x900</td>\n",
              "      <td>Intel Core i5 1.8GHz</td>\n",
              "      <td>8GB</td>\n",
              "      <td>128GB Flash Storage</td>\n",
              "      <td>Intel HD Graphics 6000</td>\n",
              "      <td>macOS</td>\n",
              "      <td>1.34kg</td>\n",
              "      <td>898.94</td>\n",
              "    </tr>\n",
              "    <tr>\n",
              "      <th>2</th>\n",
              "      <td>HP</td>\n",
              "      <td>Notebook</td>\n",
              "      <td>15.6</td>\n",
              "      <td>Full HD 1920x1080</td>\n",
              "      <td>Intel Core i5 7200U 2.5GHz</td>\n",
              "      <td>8GB</td>\n",
              "      <td>256GB SSD</td>\n",
              "      <td>Intel HD Graphics 620</td>\n",
              "      <td>No OS</td>\n",
              "      <td>1.86kg</td>\n",
              "      <td>575.00</td>\n",
              "    </tr>\n",
              "    <tr>\n",
              "      <th>3</th>\n",
              "      <td>Apple</td>\n",
              "      <td>Ultrabook</td>\n",
              "      <td>15.4</td>\n",
              "      <td>IPS Panel Retina Display 2880x1800</td>\n",
              "      <td>Intel Core i7 2.7GHz</td>\n",
              "      <td>16GB</td>\n",
              "      <td>512GB SSD</td>\n",
              "      <td>AMD Radeon Pro 455</td>\n",
              "      <td>macOS</td>\n",
              "      <td>1.83kg</td>\n",
              "      <td>2537.45</td>\n",
              "    </tr>\n",
              "    <tr>\n",
              "      <th>4</th>\n",
              "      <td>Apple</td>\n",
              "      <td>Ultrabook</td>\n",
              "      <td>13.3</td>\n",
              "      <td>IPS Panel Retina Display 2560x1600</td>\n",
              "      <td>Intel Core i5 3.1GHz</td>\n",
              "      <td>8GB</td>\n",
              "      <td>256GB SSD</td>\n",
              "      <td>Intel Iris Plus Graphics 650</td>\n",
              "      <td>macOS</td>\n",
              "      <td>1.37kg</td>\n",
              "      <td>1803.60</td>\n",
              "    </tr>\n",
              "  </tbody>\n",
              "</table>\n",
              "</div>"
            ],
            "text/plain": [
              "  Company   TypeName  Inches                    ScreenResolution  \\\n",
              "0   Apple  Ultrabook    13.3  IPS Panel Retina Display 2560x1600   \n",
              "1   Apple  Ultrabook    13.3                            1440x900   \n",
              "2      HP   Notebook    15.6                   Full HD 1920x1080   \n",
              "3   Apple  Ultrabook    15.4  IPS Panel Retina Display 2880x1800   \n",
              "4   Apple  Ultrabook    13.3  IPS Panel Retina Display 2560x1600   \n",
              "\n",
              "                          Cpu   Ram               Memory  \\\n",
              "0        Intel Core i5 2.3GHz   8GB            128GB SSD   \n",
              "1        Intel Core i5 1.8GHz   8GB  128GB Flash Storage   \n",
              "2  Intel Core i5 7200U 2.5GHz   8GB            256GB SSD   \n",
              "3        Intel Core i7 2.7GHz  16GB            512GB SSD   \n",
              "4        Intel Core i5 3.1GHz   8GB            256GB SSD   \n",
              "\n",
              "                            Gpu  OpSys  Weight  Price_euros  \n",
              "0  Intel Iris Plus Graphics 640  macOS  1.37kg      1339.69  \n",
              "1        Intel HD Graphics 6000  macOS  1.34kg       898.94  \n",
              "2         Intel HD Graphics 620  No OS  1.86kg       575.00  \n",
              "3            AMD Radeon Pro 455  macOS  1.83kg      2537.45  \n",
              "4  Intel Iris Plus Graphics 650  macOS  1.37kg      1803.60  "
            ]
          },
          "execution_count": 6,
          "metadata": {},
          "output_type": "execute_result"
        }
      ],
      "source": [
        "df.drop_duplicates(keep='first', inplace=True)\n",
        "df.head()"
      ]
    },
    {
      "cell_type": "code",
      "execution_count": 7,
      "metadata": {},
      "outputs": [
        {
          "data": {
            "text/plain": [
              "ScreenResolution\n",
              "Full HD 1920x1080                                505\n",
              "1366x768                                         262\n",
              "IPS Panel Full HD 1920x1080                      226\n",
              "IPS Panel Full HD / Touchscreen 1920x1080         51\n",
              "Full HD / Touchscreen 1920x1080                   47\n",
              "1600x900                                          23\n",
              "Touchscreen 1366x768                              16\n",
              "Quad HD+ / Touchscreen 3200x1800                  15\n",
              "IPS Panel 4K Ultra HD 3840x2160                   12\n",
              "IPS Panel 4K Ultra HD / Touchscreen 3840x2160     11\n",
              "4K Ultra HD / Touchscreen 3840x2160               10\n",
              "4K Ultra HD 3840x2160                              7\n",
              "Touchscreen 2560x1440                              7\n",
              "IPS Panel 1366x768                                 7\n",
              "IPS Panel Retina Display 2560x1600                 6\n",
              "IPS Panel Retina Display 2304x1440                 6\n",
              "Touchscreen 2256x1504                              6\n",
              "IPS Panel Touchscreen 2560x1440                    5\n",
              "IPS Panel Quad HD+ / Touchscreen 3200x1800         4\n",
              "IPS Panel Touchscreen 1920x1200                    4\n",
              "1440x900                                           4\n",
              "IPS Panel Retina Display 2880x1800                 4\n",
              "IPS Panel 2560x1440                                4\n",
              "2560x1440                                          3\n",
              "Quad HD+ 3200x1800                                 3\n",
              "1920x1080                                          3\n",
              "Touchscreen 2400x1600                              3\n",
              "IPS Panel Quad HD+ 2560x1440                       3\n",
              "IPS Panel Touchscreen 1366x768                     3\n",
              "IPS Panel Touchscreen / 4K Ultra HD 3840x2160      2\n",
              "IPS Panel Full HD 2160x1440                        2\n",
              "IPS Panel Quad HD+ 3200x1800                       2\n",
              "IPS Panel Retina Display 2736x1824                 1\n",
              "IPS Panel Full HD 1920x1200                        1\n",
              "IPS Panel Full HD 2560x1440                        1\n",
              "IPS Panel Full HD 1366x768                         1\n",
              "Touchscreen / Full HD 1920x1080                    1\n",
              "Touchscreen / Quad HD+ 3200x1800                   1\n",
              "Touchscreen / 4K Ultra HD 3840x2160                1\n",
              "IPS Panel Touchscreen 2400x1600                    1\n",
              "Name: count, dtype: int64"
            ]
          },
          "execution_count": 7,
          "metadata": {},
          "output_type": "execute_result"
        }
      ],
      "source": [
        "df['ScreenResolution'].value_counts()"
      ]
    },
    {
      "cell_type": "code",
      "execution_count": 8,
      "metadata": {},
      "outputs": [],
      "source": [
        "df['resolution'] = df['ScreenResolution'].str.extract(r'(\\d+x\\d+)')\n",
        "df['screentype'] = df['ScreenResolution'].replace(r'(\\d+x\\d+|Full HD|Quad HD|Quad HD|\\+|/|4K Ultra HD)','',regex=True)\n",
        "df['screentype'] = df['screentype'].replace(r'(Touchscreen)','',regex=True)\n",
        "df['touchscreen'] = df['screentype'].str.extract(r'(Touchscreen)')\n",
        "df['touchscreen'] = df['touchscreen'].replace('Touchscreen',1)\n",
        "df['touchscreen'] = df['touchscreen'].replace(np.nan,0)\n",
        "\n",
        "df.drop('ScreenResolution', axis=1, inplace=True)"
      ]
    },
    {
      "cell_type": "code",
      "execution_count": 9,
      "metadata": {},
      "outputs": [
        {
          "data": {
            "text/html": [
              "<div>\n",
              "<style scoped>\n",
              "    .dataframe tbody tr th:only-of-type {\n",
              "        vertical-align: middle;\n",
              "    }\n",
              "\n",
              "    .dataframe tbody tr th {\n",
              "        vertical-align: top;\n",
              "    }\n",
              "\n",
              "    .dataframe thead th {\n",
              "        text-align: right;\n",
              "    }\n",
              "</style>\n",
              "<table border=\"1\" class=\"dataframe\">\n",
              "  <thead>\n",
              "    <tr style=\"text-align: right;\">\n",
              "      <th></th>\n",
              "      <th>Company</th>\n",
              "      <th>TypeName</th>\n",
              "      <th>Inches</th>\n",
              "      <th>Cpu</th>\n",
              "      <th>Ram</th>\n",
              "      <th>Memory</th>\n",
              "      <th>Gpu</th>\n",
              "      <th>OpSys</th>\n",
              "      <th>Weight</th>\n",
              "      <th>Price_euros</th>\n",
              "      <th>resolution</th>\n",
              "      <th>screentype</th>\n",
              "      <th>touchscreen</th>\n",
              "    </tr>\n",
              "  </thead>\n",
              "  <tbody>\n",
              "    <tr>\n",
              "      <th>0</th>\n",
              "      <td>Apple</td>\n",
              "      <td>Ultrabook</td>\n",
              "      <td>13.3</td>\n",
              "      <td>Intel Core i5 2.3GHz</td>\n",
              "      <td>8GB</td>\n",
              "      <td>128GB SSD</td>\n",
              "      <td>Intel Iris Plus Graphics 640</td>\n",
              "      <td>macOS</td>\n",
              "      <td>1.37kg</td>\n",
              "      <td>1339.69</td>\n",
              "      <td>2560x1600</td>\n",
              "      <td>IPS Panel Retina Display</td>\n",
              "      <td>0</td>\n",
              "    </tr>\n",
              "    <tr>\n",
              "      <th>1</th>\n",
              "      <td>Apple</td>\n",
              "      <td>Ultrabook</td>\n",
              "      <td>13.3</td>\n",
              "      <td>Intel Core i5 1.8GHz</td>\n",
              "      <td>8GB</td>\n",
              "      <td>128GB Flash Storage</td>\n",
              "      <td>Intel HD Graphics 6000</td>\n",
              "      <td>macOS</td>\n",
              "      <td>1.34kg</td>\n",
              "      <td>898.94</td>\n",
              "      <td>1440x900</td>\n",
              "      <td></td>\n",
              "      <td>0</td>\n",
              "    </tr>\n",
              "    <tr>\n",
              "      <th>2</th>\n",
              "      <td>HP</td>\n",
              "      <td>Notebook</td>\n",
              "      <td>15.6</td>\n",
              "      <td>Intel Core i5 7200U 2.5GHz</td>\n",
              "      <td>8GB</td>\n",
              "      <td>256GB SSD</td>\n",
              "      <td>Intel HD Graphics 620</td>\n",
              "      <td>No OS</td>\n",
              "      <td>1.86kg</td>\n",
              "      <td>575.00</td>\n",
              "      <td>1920x1080</td>\n",
              "      <td></td>\n",
              "      <td>0</td>\n",
              "    </tr>\n",
              "    <tr>\n",
              "      <th>3</th>\n",
              "      <td>Apple</td>\n",
              "      <td>Ultrabook</td>\n",
              "      <td>15.4</td>\n",
              "      <td>Intel Core i7 2.7GHz</td>\n",
              "      <td>16GB</td>\n",
              "      <td>512GB SSD</td>\n",
              "      <td>AMD Radeon Pro 455</td>\n",
              "      <td>macOS</td>\n",
              "      <td>1.83kg</td>\n",
              "      <td>2537.45</td>\n",
              "      <td>2880x1800</td>\n",
              "      <td>IPS Panel Retina Display</td>\n",
              "      <td>0</td>\n",
              "    </tr>\n",
              "    <tr>\n",
              "      <th>4</th>\n",
              "      <td>Apple</td>\n",
              "      <td>Ultrabook</td>\n",
              "      <td>13.3</td>\n",
              "      <td>Intel Core i5 3.1GHz</td>\n",
              "      <td>8GB</td>\n",
              "      <td>256GB SSD</td>\n",
              "      <td>Intel Iris Plus Graphics 650</td>\n",
              "      <td>macOS</td>\n",
              "      <td>1.37kg</td>\n",
              "      <td>1803.60</td>\n",
              "      <td>2560x1600</td>\n",
              "      <td>IPS Panel Retina Display</td>\n",
              "      <td>0</td>\n",
              "    </tr>\n",
              "  </tbody>\n",
              "</table>\n",
              "</div>"
            ],
            "text/plain": [
              "  Company   TypeName  Inches                         Cpu   Ram  \\\n",
              "0   Apple  Ultrabook    13.3        Intel Core i5 2.3GHz   8GB   \n",
              "1   Apple  Ultrabook    13.3        Intel Core i5 1.8GHz   8GB   \n",
              "2      HP   Notebook    15.6  Intel Core i5 7200U 2.5GHz   8GB   \n",
              "3   Apple  Ultrabook    15.4        Intel Core i7 2.7GHz  16GB   \n",
              "4   Apple  Ultrabook    13.3        Intel Core i5 3.1GHz   8GB   \n",
              "\n",
              "                Memory                           Gpu  OpSys  Weight  \\\n",
              "0            128GB SSD  Intel Iris Plus Graphics 640  macOS  1.37kg   \n",
              "1  128GB Flash Storage        Intel HD Graphics 6000  macOS  1.34kg   \n",
              "2            256GB SSD         Intel HD Graphics 620  No OS  1.86kg   \n",
              "3            512GB SSD            AMD Radeon Pro 455  macOS  1.83kg   \n",
              "4            256GB SSD  Intel Iris Plus Graphics 650  macOS  1.37kg   \n",
              "\n",
              "   Price_euros resolution                 screentype  touchscreen  \n",
              "0      1339.69  2560x1600  IPS Panel Retina Display             0  \n",
              "1       898.94   1440x900                                       0  \n",
              "2       575.00  1920x1080                                       0  \n",
              "3      2537.45  2880x1800  IPS Panel Retina Display             0  \n",
              "4      1803.60  2560x1600  IPS Panel Retina Display             0  "
            ]
          },
          "execution_count": 9,
          "metadata": {},
          "output_type": "execute_result"
        }
      ],
      "source": [
        "df.head()"
      ]
    },
    {
      "cell_type": "code",
      "execution_count": 10,
      "metadata": {},
      "outputs": [
        {
          "data": {
            "text/plain": [
              "screentype\n",
              "                             547\n",
              "                             295\n",
              "IPS Panel                    261\n",
              "                              75\n",
              "IPS Panel                     68\n",
              "IPS Panel Retina Display      17\n",
              "IPS Panel                     11\n",
              "Name: count, dtype: int64"
            ]
          },
          "execution_count": 10,
          "metadata": {},
          "output_type": "execute_result"
        }
      ],
      "source": [
        "df['screentype'].value_counts()"
      ]
    },
    {
      "cell_type": "code",
      "execution_count": 11,
      "metadata": {},
      "outputs": [],
      "source": [
        "df.drop('screentype', axis=1, inplace=True)"
      ]
    },
    {
      "cell_type": "code",
      "execution_count": 12,
      "metadata": {},
      "outputs": [
        {
          "data": {
            "text/plain": [
              "Cpu\n",
              "Intel Core i5 7200U 2.5GHz     190\n",
              "Intel Core i7 7700HQ 2.8GHz    146\n",
              "Intel Core i7 7500U 2.7GHz     132\n",
              "Intel Core i7 8550U 1.8GHz      73\n",
              "Intel Core i5 8250U 1.6GHz      72\n",
              "                              ... \n",
              "Intel Core M M3-6Y30 0.9GHz      1\n",
              "AMD A9-Series 9420 2.9GHz        1\n",
              "Intel Core i5 2.9GHz             1\n",
              "AMD A6-Series 7310 2GHz          1\n",
              "AMD A9-Series 9410 2.9GHz        1\n",
              "Name: count, Length: 118, dtype: int64"
            ]
          },
          "execution_count": 12,
          "metadata": {},
          "output_type": "execute_result"
        }
      ],
      "source": [
        "df['Cpu'].value_counts()"
      ]
    },
    {
      "cell_type": "code",
      "execution_count": 13,
      "metadata": {},
      "outputs": [],
      "source": [
        "df['cpu_freq(GHz)'] = df['Cpu'].str.extract(r'(\\d+(?:\\.\\d+)?GHz)')\n",
        "df['cpu_freq(GHz)'] = df['cpu_freq(GHz)'].str.replace('GHz', '').astype(float)\n",
        "\n",
        "df['Cpu']= df['Cpu'].str.replace(r'(\\d+(?:\\.\\d+)?GHz)', '', regex=True)"
      ]
    },
    {
      "cell_type": "code",
      "execution_count": 14,
      "metadata": {},
      "outputs": [
        {
          "data": {
            "text/plain": [
              "Cpu\n",
              "Intel Core i5 7200U      193\n",
              "Intel Core i7 7700HQ     147\n",
              "Intel Core i7 7500U      133\n",
              "Intel Core i3 6006U       81\n",
              "Intel Core i7 8550U       73\n",
              "                        ... \n",
              "Intel Core M m3            1\n",
              "AMD E-Series E2-9000       1\n",
              "Intel Core M M3-6Y30       1\n",
              "AMD A6-Series 7310         1\n",
              "AMD A9-Series 9410         1\n",
              "Name: count, Length: 93, dtype: int64"
            ]
          },
          "execution_count": 14,
          "metadata": {},
          "output_type": "execute_result"
        }
      ],
      "source": [
        "df['Cpu'].value_counts()"
      ]
    },
    {
      "cell_type": "code",
      "execution_count": 15,
      "metadata": {},
      "outputs": [
        {
          "data": {
            "text/plain": [
              "cpu_brand\n",
              "Intel      1213\n",
              "AMD          60\n",
              "Samsung       1\n",
              "Name: count, dtype: int64"
            ]
          },
          "execution_count": 15,
          "metadata": {},
          "output_type": "execute_result"
        }
      ],
      "source": [
        "df['cpu_brand'] = df['Cpu'].str.extract(r'^(\\w+)')\n",
        "df['cpu_brand'].value_counts()"
      ]
    },
    {
      "cell_type": "code",
      "execution_count": 16,
      "metadata": {},
      "outputs": [
        {
          "data": {
            "text/html": [
              "<div>\n",
              "<style scoped>\n",
              "    .dataframe tbody tr th:only-of-type {\n",
              "        vertical-align: middle;\n",
              "    }\n",
              "\n",
              "    .dataframe tbody tr th {\n",
              "        vertical-align: top;\n",
              "    }\n",
              "\n",
              "    .dataframe thead th {\n",
              "        text-align: right;\n",
              "    }\n",
              "</style>\n",
              "<table border=\"1\" class=\"dataframe\">\n",
              "  <thead>\n",
              "    <tr style=\"text-align: right;\">\n",
              "      <th></th>\n",
              "      <th>Company</th>\n",
              "      <th>TypeName</th>\n",
              "      <th>Inches</th>\n",
              "      <th>Cpu</th>\n",
              "      <th>Ram</th>\n",
              "      <th>Memory</th>\n",
              "      <th>Gpu</th>\n",
              "      <th>OpSys</th>\n",
              "      <th>Weight</th>\n",
              "      <th>Price_euros</th>\n",
              "      <th>resolution</th>\n",
              "      <th>touchscreen</th>\n",
              "      <th>cpu_freq(GHz)</th>\n",
              "      <th>cpu_brand</th>\n",
              "    </tr>\n",
              "  </thead>\n",
              "  <tbody>\n",
              "    <tr>\n",
              "      <th>1191</th>\n",
              "      <td>Samsung</td>\n",
              "      <td>2 in 1 Convertible</td>\n",
              "      <td>12.3</td>\n",
              "      <td>Samsung Cortex A72&amp;A53</td>\n",
              "      <td>4GB</td>\n",
              "      <td>32GB Flash Storage</td>\n",
              "      <td>ARM Mali T860 MP4</td>\n",
              "      <td>Chrome OS</td>\n",
              "      <td>1.15kg</td>\n",
              "      <td>659.0</td>\n",
              "      <td>2400x1600</td>\n",
              "      <td>0</td>\n",
              "      <td>2.0</td>\n",
              "      <td>Samsung</td>\n",
              "    </tr>\n",
              "  </tbody>\n",
              "</table>\n",
              "</div>"
            ],
            "text/plain": [
              "      Company            TypeName  Inches                      Cpu  Ram  \\\n",
              "1191  Samsung  2 in 1 Convertible    12.3  Samsung Cortex A72&A53   4GB   \n",
              "\n",
              "                  Memory                Gpu      OpSys  Weight  Price_euros  \\\n",
              "1191  32GB Flash Storage  ARM Mali T860 MP4  Chrome OS  1.15kg        659.0   \n",
              "\n",
              "     resolution  touchscreen  cpu_freq(GHz) cpu_brand  \n",
              "1191  2400x1600            0            2.0   Samsung  "
            ]
          },
          "execution_count": 16,
          "metadata": {},
          "output_type": "execute_result"
        }
      ],
      "source": [
        "df[df['cpu_brand']=='Samsung']"
      ]
    },
    {
      "cell_type": "code",
      "execution_count": 17,
      "metadata": {},
      "outputs": [],
      "source": [
        "df=df.drop(1191)"
      ]
    },
    {
      "cell_type": "code",
      "execution_count": 18,
      "metadata": {},
      "outputs": [],
      "source": [
        "def fetch_processor(x):\n",
        "    cpu_name=\" \".join(x.split()[0:3])\n",
        "    if cpu_name=='Intel Core i7' or cpu_name == 'Intel Core i5' or cpu_name == 'Intel Core i3':\n",
        "        return cpu_name\n",
        "    elif cpu_name.split()[0]=='Intel':\n",
        "        return 'Other Intel Processor'\n",
        "    else:\n",
        "        return 'AMD Processor'\n",
        "    \n",
        "df['cpu_brand']=df['Cpu'].apply(lambda x:fetch_processor(x))"
      ]
    },
    {
      "cell_type": "code",
      "execution_count": 19,
      "metadata": {},
      "outputs": [],
      "source": [
        "df.drop('Cpu', axis=1, inplace=True)"
      ]
    },
    {
      "cell_type": "code",
      "execution_count": 20,
      "metadata": {},
      "outputs": [
        {
          "data": {
            "text/html": [
              "<div>\n",
              "<style scoped>\n",
              "    .dataframe tbody tr th:only-of-type {\n",
              "        vertical-align: middle;\n",
              "    }\n",
              "\n",
              "    .dataframe tbody tr th {\n",
              "        vertical-align: top;\n",
              "    }\n",
              "\n",
              "    .dataframe thead th {\n",
              "        text-align: right;\n",
              "    }\n",
              "</style>\n",
              "<table border=\"1\" class=\"dataframe\">\n",
              "  <thead>\n",
              "    <tr style=\"text-align: right;\">\n",
              "      <th></th>\n",
              "      <th>Company</th>\n",
              "      <th>TypeName</th>\n",
              "      <th>Inches</th>\n",
              "      <th>Ram</th>\n",
              "      <th>Memory</th>\n",
              "      <th>Gpu</th>\n",
              "      <th>OpSys</th>\n",
              "      <th>Weight</th>\n",
              "      <th>Price_euros</th>\n",
              "      <th>resolution</th>\n",
              "      <th>touchscreen</th>\n",
              "      <th>cpu_freq(GHz)</th>\n",
              "      <th>cpu_brand</th>\n",
              "    </tr>\n",
              "  </thead>\n",
              "  <tbody>\n",
              "    <tr>\n",
              "      <th>0</th>\n",
              "      <td>Apple</td>\n",
              "      <td>Ultrabook</td>\n",
              "      <td>13.3</td>\n",
              "      <td>8GB</td>\n",
              "      <td>128GB SSD</td>\n",
              "      <td>Intel Iris Plus Graphics 640</td>\n",
              "      <td>macOS</td>\n",
              "      <td>1.37kg</td>\n",
              "      <td>1339.69</td>\n",
              "      <td>2560x1600</td>\n",
              "      <td>0</td>\n",
              "      <td>2.3</td>\n",
              "      <td>Intel Core i5</td>\n",
              "    </tr>\n",
              "    <tr>\n",
              "      <th>1</th>\n",
              "      <td>Apple</td>\n",
              "      <td>Ultrabook</td>\n",
              "      <td>13.3</td>\n",
              "      <td>8GB</td>\n",
              "      <td>128GB Flash Storage</td>\n",
              "      <td>Intel HD Graphics 6000</td>\n",
              "      <td>macOS</td>\n",
              "      <td>1.34kg</td>\n",
              "      <td>898.94</td>\n",
              "      <td>1440x900</td>\n",
              "      <td>0</td>\n",
              "      <td>1.8</td>\n",
              "      <td>Intel Core i5</td>\n",
              "    </tr>\n",
              "    <tr>\n",
              "      <th>2</th>\n",
              "      <td>HP</td>\n",
              "      <td>Notebook</td>\n",
              "      <td>15.6</td>\n",
              "      <td>8GB</td>\n",
              "      <td>256GB SSD</td>\n",
              "      <td>Intel HD Graphics 620</td>\n",
              "      <td>No OS</td>\n",
              "      <td>1.86kg</td>\n",
              "      <td>575.00</td>\n",
              "      <td>1920x1080</td>\n",
              "      <td>0</td>\n",
              "      <td>2.5</td>\n",
              "      <td>Intel Core i5</td>\n",
              "    </tr>\n",
              "    <tr>\n",
              "      <th>3</th>\n",
              "      <td>Apple</td>\n",
              "      <td>Ultrabook</td>\n",
              "      <td>15.4</td>\n",
              "      <td>16GB</td>\n",
              "      <td>512GB SSD</td>\n",
              "      <td>AMD Radeon Pro 455</td>\n",
              "      <td>macOS</td>\n",
              "      <td>1.83kg</td>\n",
              "      <td>2537.45</td>\n",
              "      <td>2880x1800</td>\n",
              "      <td>0</td>\n",
              "      <td>2.7</td>\n",
              "      <td>Intel Core i7</td>\n",
              "    </tr>\n",
              "    <tr>\n",
              "      <th>4</th>\n",
              "      <td>Apple</td>\n",
              "      <td>Ultrabook</td>\n",
              "      <td>13.3</td>\n",
              "      <td>8GB</td>\n",
              "      <td>256GB SSD</td>\n",
              "      <td>Intel Iris Plus Graphics 650</td>\n",
              "      <td>macOS</td>\n",
              "      <td>1.37kg</td>\n",
              "      <td>1803.60</td>\n",
              "      <td>2560x1600</td>\n",
              "      <td>0</td>\n",
              "      <td>3.1</td>\n",
              "      <td>Intel Core i5</td>\n",
              "    </tr>\n",
              "  </tbody>\n",
              "</table>\n",
              "</div>"
            ],
            "text/plain": [
              "  Company   TypeName  Inches   Ram               Memory  \\\n",
              "0   Apple  Ultrabook    13.3   8GB            128GB SSD   \n",
              "1   Apple  Ultrabook    13.3   8GB  128GB Flash Storage   \n",
              "2      HP   Notebook    15.6   8GB            256GB SSD   \n",
              "3   Apple  Ultrabook    15.4  16GB            512GB SSD   \n",
              "4   Apple  Ultrabook    13.3   8GB            256GB SSD   \n",
              "\n",
              "                            Gpu  OpSys  Weight  Price_euros resolution  \\\n",
              "0  Intel Iris Plus Graphics 640  macOS  1.37kg      1339.69  2560x1600   \n",
              "1        Intel HD Graphics 6000  macOS  1.34kg       898.94   1440x900   \n",
              "2         Intel HD Graphics 620  No OS  1.86kg       575.00  1920x1080   \n",
              "3            AMD Radeon Pro 455  macOS  1.83kg      2537.45  2880x1800   \n",
              "4  Intel Iris Plus Graphics 650  macOS  1.37kg      1803.60  2560x1600   \n",
              "\n",
              "   touchscreen  cpu_freq(GHz)      cpu_brand  \n",
              "0            0            2.3  Intel Core i5  \n",
              "1            0            1.8  Intel Core i5  \n",
              "2            0            2.5  Intel Core i5  \n",
              "3            0            2.7  Intel Core i7  \n",
              "4            0            3.1  Intel Core i5  "
            ]
          },
          "execution_count": 20,
          "metadata": {},
          "output_type": "execute_result"
        }
      ],
      "source": [
        "df.head()"
      ]
    },
    {
      "cell_type": "code",
      "execution_count": 21,
      "metadata": {},
      "outputs": [],
      "source": [
        "df['Ram'] = df['Ram'].str.replace('GB', '')\n",
        "df.rename(columns={'Ram': 'Ram(GB)'}, inplace=True)\n",
        "df['Ram(GB)'] = df['Ram(GB)'].astype(int)"
      ]
    },
    {
      "cell_type": "code",
      "execution_count": 22,
      "metadata": {},
      "outputs": [
        {
          "data": {
            "text/html": [
              "<div>\n",
              "<style scoped>\n",
              "    .dataframe tbody tr th:only-of-type {\n",
              "        vertical-align: middle;\n",
              "    }\n",
              "\n",
              "    .dataframe tbody tr th {\n",
              "        vertical-align: top;\n",
              "    }\n",
              "\n",
              "    .dataframe thead th {\n",
              "        text-align: right;\n",
              "    }\n",
              "</style>\n",
              "<table border=\"1\" class=\"dataframe\">\n",
              "  <thead>\n",
              "    <tr style=\"text-align: right;\">\n",
              "      <th></th>\n",
              "      <th>Company</th>\n",
              "      <th>TypeName</th>\n",
              "      <th>Inches</th>\n",
              "      <th>Ram(GB)</th>\n",
              "      <th>Memory</th>\n",
              "      <th>Gpu</th>\n",
              "      <th>OpSys</th>\n",
              "      <th>Weight</th>\n",
              "      <th>Price_euros</th>\n",
              "      <th>resolution</th>\n",
              "      <th>touchscreen</th>\n",
              "      <th>cpu_freq(GHz)</th>\n",
              "      <th>cpu_brand</th>\n",
              "    </tr>\n",
              "  </thead>\n",
              "  <tbody>\n",
              "    <tr>\n",
              "      <th>0</th>\n",
              "      <td>Apple</td>\n",
              "      <td>Ultrabook</td>\n",
              "      <td>13.3</td>\n",
              "      <td>8</td>\n",
              "      <td>128GB SSD</td>\n",
              "      <td>Intel Iris Plus Graphics 640</td>\n",
              "      <td>macOS</td>\n",
              "      <td>1.37kg</td>\n",
              "      <td>1339.69</td>\n",
              "      <td>2560x1600</td>\n",
              "      <td>0</td>\n",
              "      <td>2.3</td>\n",
              "      <td>Intel Core i5</td>\n",
              "    </tr>\n",
              "    <tr>\n",
              "      <th>1</th>\n",
              "      <td>Apple</td>\n",
              "      <td>Ultrabook</td>\n",
              "      <td>13.3</td>\n",
              "      <td>8</td>\n",
              "      <td>128GB Flash Storage</td>\n",
              "      <td>Intel HD Graphics 6000</td>\n",
              "      <td>macOS</td>\n",
              "      <td>1.34kg</td>\n",
              "      <td>898.94</td>\n",
              "      <td>1440x900</td>\n",
              "      <td>0</td>\n",
              "      <td>1.8</td>\n",
              "      <td>Intel Core i5</td>\n",
              "    </tr>\n",
              "    <tr>\n",
              "      <th>2</th>\n",
              "      <td>HP</td>\n",
              "      <td>Notebook</td>\n",
              "      <td>15.6</td>\n",
              "      <td>8</td>\n",
              "      <td>256GB SSD</td>\n",
              "      <td>Intel HD Graphics 620</td>\n",
              "      <td>No OS</td>\n",
              "      <td>1.86kg</td>\n",
              "      <td>575.00</td>\n",
              "      <td>1920x1080</td>\n",
              "      <td>0</td>\n",
              "      <td>2.5</td>\n",
              "      <td>Intel Core i5</td>\n",
              "    </tr>\n",
              "    <tr>\n",
              "      <th>3</th>\n",
              "      <td>Apple</td>\n",
              "      <td>Ultrabook</td>\n",
              "      <td>15.4</td>\n",
              "      <td>16</td>\n",
              "      <td>512GB SSD</td>\n",
              "      <td>AMD Radeon Pro 455</td>\n",
              "      <td>macOS</td>\n",
              "      <td>1.83kg</td>\n",
              "      <td>2537.45</td>\n",
              "      <td>2880x1800</td>\n",
              "      <td>0</td>\n",
              "      <td>2.7</td>\n",
              "      <td>Intel Core i7</td>\n",
              "    </tr>\n",
              "    <tr>\n",
              "      <th>4</th>\n",
              "      <td>Apple</td>\n",
              "      <td>Ultrabook</td>\n",
              "      <td>13.3</td>\n",
              "      <td>8</td>\n",
              "      <td>256GB SSD</td>\n",
              "      <td>Intel Iris Plus Graphics 650</td>\n",
              "      <td>macOS</td>\n",
              "      <td>1.37kg</td>\n",
              "      <td>1803.60</td>\n",
              "      <td>2560x1600</td>\n",
              "      <td>0</td>\n",
              "      <td>3.1</td>\n",
              "      <td>Intel Core i5</td>\n",
              "    </tr>\n",
              "  </tbody>\n",
              "</table>\n",
              "</div>"
            ],
            "text/plain": [
              "  Company   TypeName  Inches  Ram(GB)               Memory  \\\n",
              "0   Apple  Ultrabook    13.3        8            128GB SSD   \n",
              "1   Apple  Ultrabook    13.3        8  128GB Flash Storage   \n",
              "2      HP   Notebook    15.6        8            256GB SSD   \n",
              "3   Apple  Ultrabook    15.4       16            512GB SSD   \n",
              "4   Apple  Ultrabook    13.3        8            256GB SSD   \n",
              "\n",
              "                            Gpu  OpSys  Weight  Price_euros resolution  \\\n",
              "0  Intel Iris Plus Graphics 640  macOS  1.37kg      1339.69  2560x1600   \n",
              "1        Intel HD Graphics 6000  macOS  1.34kg       898.94   1440x900   \n",
              "2         Intel HD Graphics 620  No OS  1.86kg       575.00  1920x1080   \n",
              "3            AMD Radeon Pro 455  macOS  1.83kg      2537.45  2880x1800   \n",
              "4  Intel Iris Plus Graphics 650  macOS  1.37kg      1803.60  2560x1600   \n",
              "\n",
              "   touchscreen  cpu_freq(GHz)      cpu_brand  \n",
              "0            0            2.3  Intel Core i5  \n",
              "1            0            1.8  Intel Core i5  \n",
              "2            0            2.5  Intel Core i5  \n",
              "3            0            2.7  Intel Core i7  \n",
              "4            0            3.1  Intel Core i5  "
            ]
          },
          "execution_count": 22,
          "metadata": {},
          "output_type": "execute_result"
        }
      ],
      "source": [
        "df.head()"
      ]
    },
    {
      "cell_type": "code",
      "execution_count": 23,
      "metadata": {},
      "outputs": [],
      "source": [
        "ssd=df['Memory'].apply(lambda x:x.split('SSD')[0].split('Flash')[0] if 'SSD' in str(x) or 'Flash' in str(x) else x)\n",
        "ssd=ssd.apply(lambda x:x.replace('GB','') if 'GB' in str(x) else x.replace('TB','') if 'TB' in str(x) else x)\n",
        "ssd=ssd.apply(pd.to_numeric,errors='coerce')\n",
        "ssd=ssd.apply(lambda x:x if x>10 else x*1024)\n",
        "df['SSD']=ssd.fillna(0)\n",
        "\n",
        "\n",
        "hdd=df['Memory'].apply(lambda x:x.split('HDD')[0].split('Hybrid')[0] if ('HDD' in str(x) and '+' not in str(x)) or ('Hybrid' in str(x) and '+' not in str(x))else\n",
        "                   x.split('+')[-1].split('HDD')[0].split('Hybrid')[0] if '+' in str(x) else x)\n",
        "hdd=hdd.apply(lambda x:x.replace('GB','') if 'GB' in str(x) else x.replace('TB','') if 'TB' in str(x) else x)\n",
        "hdd=hdd.apply(pd.to_numeric,errors='coerce')\n",
        "hdd=hdd.apply(lambda x:x if x>10 else x*1024)\n",
        "df['HDD']=hdd.fillna(0)\n",
        "\n",
        "df=df.drop(columns='Memory')"
      ]
    },
    {
      "cell_type": "code",
      "execution_count": 24,
      "metadata": {},
      "outputs": [
        {
          "data": {
            "text/html": [
              "<div>\n",
              "<style scoped>\n",
              "    .dataframe tbody tr th:only-of-type {\n",
              "        vertical-align: middle;\n",
              "    }\n",
              "\n",
              "    .dataframe tbody tr th {\n",
              "        vertical-align: top;\n",
              "    }\n",
              "\n",
              "    .dataframe thead th {\n",
              "        text-align: right;\n",
              "    }\n",
              "</style>\n",
              "<table border=\"1\" class=\"dataframe\">\n",
              "  <thead>\n",
              "    <tr style=\"text-align: right;\">\n",
              "      <th></th>\n",
              "      <th>Company</th>\n",
              "      <th>TypeName</th>\n",
              "      <th>Inches</th>\n",
              "      <th>Ram(GB)</th>\n",
              "      <th>Gpu</th>\n",
              "      <th>OpSys</th>\n",
              "      <th>Weight</th>\n",
              "      <th>Price_euros</th>\n",
              "      <th>resolution</th>\n",
              "      <th>touchscreen</th>\n",
              "      <th>cpu_freq(GHz)</th>\n",
              "      <th>cpu_brand</th>\n",
              "      <th>SSD</th>\n",
              "      <th>HDD</th>\n",
              "    </tr>\n",
              "  </thead>\n",
              "  <tbody>\n",
              "    <tr>\n",
              "      <th>0</th>\n",
              "      <td>Apple</td>\n",
              "      <td>Ultrabook</td>\n",
              "      <td>13.3</td>\n",
              "      <td>8</td>\n",
              "      <td>Intel Iris Plus Graphics 640</td>\n",
              "      <td>macOS</td>\n",
              "      <td>1.37kg</td>\n",
              "      <td>1339.69</td>\n",
              "      <td>2560x1600</td>\n",
              "      <td>0</td>\n",
              "      <td>2.3</td>\n",
              "      <td>Intel Core i5</td>\n",
              "      <td>128.0</td>\n",
              "      <td>0.0</td>\n",
              "    </tr>\n",
              "    <tr>\n",
              "      <th>1</th>\n",
              "      <td>Apple</td>\n",
              "      <td>Ultrabook</td>\n",
              "      <td>13.3</td>\n",
              "      <td>8</td>\n",
              "      <td>Intel HD Graphics 6000</td>\n",
              "      <td>macOS</td>\n",
              "      <td>1.34kg</td>\n",
              "      <td>898.94</td>\n",
              "      <td>1440x900</td>\n",
              "      <td>0</td>\n",
              "      <td>1.8</td>\n",
              "      <td>Intel Core i5</td>\n",
              "      <td>128.0</td>\n",
              "      <td>0.0</td>\n",
              "    </tr>\n",
              "    <tr>\n",
              "      <th>2</th>\n",
              "      <td>HP</td>\n",
              "      <td>Notebook</td>\n",
              "      <td>15.6</td>\n",
              "      <td>8</td>\n",
              "      <td>Intel HD Graphics 620</td>\n",
              "      <td>No OS</td>\n",
              "      <td>1.86kg</td>\n",
              "      <td>575.00</td>\n",
              "      <td>1920x1080</td>\n",
              "      <td>0</td>\n",
              "      <td>2.5</td>\n",
              "      <td>Intel Core i5</td>\n",
              "      <td>256.0</td>\n",
              "      <td>0.0</td>\n",
              "    </tr>\n",
              "    <tr>\n",
              "      <th>3</th>\n",
              "      <td>Apple</td>\n",
              "      <td>Ultrabook</td>\n",
              "      <td>15.4</td>\n",
              "      <td>16</td>\n",
              "      <td>AMD Radeon Pro 455</td>\n",
              "      <td>macOS</td>\n",
              "      <td>1.83kg</td>\n",
              "      <td>2537.45</td>\n",
              "      <td>2880x1800</td>\n",
              "      <td>0</td>\n",
              "      <td>2.7</td>\n",
              "      <td>Intel Core i7</td>\n",
              "      <td>512.0</td>\n",
              "      <td>0.0</td>\n",
              "    </tr>\n",
              "    <tr>\n",
              "      <th>4</th>\n",
              "      <td>Apple</td>\n",
              "      <td>Ultrabook</td>\n",
              "      <td>13.3</td>\n",
              "      <td>8</td>\n",
              "      <td>Intel Iris Plus Graphics 650</td>\n",
              "      <td>macOS</td>\n",
              "      <td>1.37kg</td>\n",
              "      <td>1803.60</td>\n",
              "      <td>2560x1600</td>\n",
              "      <td>0</td>\n",
              "      <td>3.1</td>\n",
              "      <td>Intel Core i5</td>\n",
              "      <td>256.0</td>\n",
              "      <td>0.0</td>\n",
              "    </tr>\n",
              "  </tbody>\n",
              "</table>\n",
              "</div>"
            ],
            "text/plain": [
              "  Company   TypeName  Inches  Ram(GB)                           Gpu  OpSys  \\\n",
              "0   Apple  Ultrabook    13.3        8  Intel Iris Plus Graphics 640  macOS   \n",
              "1   Apple  Ultrabook    13.3        8        Intel HD Graphics 6000  macOS   \n",
              "2      HP   Notebook    15.6        8         Intel HD Graphics 620  No OS   \n",
              "3   Apple  Ultrabook    15.4       16            AMD Radeon Pro 455  macOS   \n",
              "4   Apple  Ultrabook    13.3        8  Intel Iris Plus Graphics 650  macOS   \n",
              "\n",
              "   Weight  Price_euros resolution  touchscreen  cpu_freq(GHz)      cpu_brand  \\\n",
              "0  1.37kg      1339.69  2560x1600            0            2.3  Intel Core i5   \n",
              "1  1.34kg       898.94   1440x900            0            1.8  Intel Core i5   \n",
              "2  1.86kg       575.00  1920x1080            0            2.5  Intel Core i5   \n",
              "3  1.83kg      2537.45  2880x1800            0            2.7  Intel Core i7   \n",
              "4  1.37kg      1803.60  2560x1600            0            3.1  Intel Core i5   \n",
              "\n",
              "     SSD  HDD  \n",
              "0  128.0  0.0  \n",
              "1  128.0  0.0  \n",
              "2  256.0  0.0  \n",
              "3  512.0  0.0  \n",
              "4  256.0  0.0  "
            ]
          },
          "execution_count": 24,
          "metadata": {},
          "output_type": "execute_result"
        }
      ],
      "source": [
        "df.head()"
      ]
    },
    {
      "cell_type": "code",
      "execution_count": 25,
      "metadata": {},
      "outputs": [],
      "source": [
        "df['Weight'] = df['Weight'].str.replace('kg','').astype(float)"
      ]
    },
    {
      "cell_type": "code",
      "execution_count": 26,
      "metadata": {},
      "outputs": [],
      "source": [
        "df[\"gpu_model\"] = df['Gpu'].str.extract(r'^(\\w+)')"
      ]
    },
    {
      "cell_type": "code",
      "execution_count": 27,
      "metadata": {},
      "outputs": [
        {
          "data": {
            "text/plain": [
              "gpu_brand\n",
              "Intel     703\n",
              "Nvidia    396\n",
              "AMD       174\n",
              "Name: count, dtype: int64"
            ]
          },
          "execution_count": 27,
          "metadata": {},
          "output_type": "execute_result"
        }
      ],
      "source": [
        "df['gpu_brand'] = df['Gpu'].str.extract(r'^(\\w+)')\n",
        "df['gpu_brand'].value_counts()"
      ]
    },
    {
      "cell_type": "code",
      "execution_count": 28,
      "metadata": {},
      "outputs": [],
      "source": [
        "df[\"gpu_model\"] = df['Gpu'].apply(lambda x: x.split()[-1])\n",
        "df[\"gpu_model\"] = df[\"gpu_model\"].str.replace(r'[^0-9]', '', regex=True)\n",
        "df[\"gpu_model\"] = df[\"gpu_model\"].replace('', '0').astype(int)"
      ]
    },
    {
      "cell_type": "code",
      "execution_count": 29,
      "metadata": {},
      "outputs": [],
      "source": [
        "df.drop(\"Gpu\", axis=1, inplace=True)"
      ]
    },
    {
      "cell_type": "code",
      "execution_count": 30,
      "metadata": {},
      "outputs": [
        {
          "data": {
            "text/html": [
              "<div>\n",
              "<style scoped>\n",
              "    .dataframe tbody tr th:only-of-type {\n",
              "        vertical-align: middle;\n",
              "    }\n",
              "\n",
              "    .dataframe tbody tr th {\n",
              "        vertical-align: top;\n",
              "    }\n",
              "\n",
              "    .dataframe thead th {\n",
              "        text-align: right;\n",
              "    }\n",
              "</style>\n",
              "<table border=\"1\" class=\"dataframe\">\n",
              "  <thead>\n",
              "    <tr style=\"text-align: right;\">\n",
              "      <th></th>\n",
              "      <th>Company</th>\n",
              "      <th>TypeName</th>\n",
              "      <th>Inches</th>\n",
              "      <th>Ram(GB)</th>\n",
              "      <th>OpSys</th>\n",
              "      <th>Weight</th>\n",
              "      <th>Price_euros</th>\n",
              "      <th>resolution</th>\n",
              "      <th>touchscreen</th>\n",
              "      <th>cpu_freq(GHz)</th>\n",
              "      <th>cpu_brand</th>\n",
              "      <th>SSD</th>\n",
              "      <th>HDD</th>\n",
              "      <th>gpu_model</th>\n",
              "      <th>gpu_brand</th>\n",
              "    </tr>\n",
              "  </thead>\n",
              "  <tbody>\n",
              "    <tr>\n",
              "      <th>0</th>\n",
              "      <td>Apple</td>\n",
              "      <td>Ultrabook</td>\n",
              "      <td>13.3</td>\n",
              "      <td>8</td>\n",
              "      <td>macOS</td>\n",
              "      <td>1.37</td>\n",
              "      <td>1339.69</td>\n",
              "      <td>2560x1600</td>\n",
              "      <td>0</td>\n",
              "      <td>2.3</td>\n",
              "      <td>Intel Core i5</td>\n",
              "      <td>128.0</td>\n",
              "      <td>0.0</td>\n",
              "      <td>640</td>\n",
              "      <td>Intel</td>\n",
              "    </tr>\n",
              "    <tr>\n",
              "      <th>1</th>\n",
              "      <td>Apple</td>\n",
              "      <td>Ultrabook</td>\n",
              "      <td>13.3</td>\n",
              "      <td>8</td>\n",
              "      <td>macOS</td>\n",
              "      <td>1.34</td>\n",
              "      <td>898.94</td>\n",
              "      <td>1440x900</td>\n",
              "      <td>0</td>\n",
              "      <td>1.8</td>\n",
              "      <td>Intel Core i5</td>\n",
              "      <td>128.0</td>\n",
              "      <td>0.0</td>\n",
              "      <td>6000</td>\n",
              "      <td>Intel</td>\n",
              "    </tr>\n",
              "    <tr>\n",
              "      <th>2</th>\n",
              "      <td>HP</td>\n",
              "      <td>Notebook</td>\n",
              "      <td>15.6</td>\n",
              "      <td>8</td>\n",
              "      <td>No OS</td>\n",
              "      <td>1.86</td>\n",
              "      <td>575.00</td>\n",
              "      <td>1920x1080</td>\n",
              "      <td>0</td>\n",
              "      <td>2.5</td>\n",
              "      <td>Intel Core i5</td>\n",
              "      <td>256.0</td>\n",
              "      <td>0.0</td>\n",
              "      <td>620</td>\n",
              "      <td>Intel</td>\n",
              "    </tr>\n",
              "    <tr>\n",
              "      <th>3</th>\n",
              "      <td>Apple</td>\n",
              "      <td>Ultrabook</td>\n",
              "      <td>15.4</td>\n",
              "      <td>16</td>\n",
              "      <td>macOS</td>\n",
              "      <td>1.83</td>\n",
              "      <td>2537.45</td>\n",
              "      <td>2880x1800</td>\n",
              "      <td>0</td>\n",
              "      <td>2.7</td>\n",
              "      <td>Intel Core i7</td>\n",
              "      <td>512.0</td>\n",
              "      <td>0.0</td>\n",
              "      <td>455</td>\n",
              "      <td>AMD</td>\n",
              "    </tr>\n",
              "    <tr>\n",
              "      <th>4</th>\n",
              "      <td>Apple</td>\n",
              "      <td>Ultrabook</td>\n",
              "      <td>13.3</td>\n",
              "      <td>8</td>\n",
              "      <td>macOS</td>\n",
              "      <td>1.37</td>\n",
              "      <td>1803.60</td>\n",
              "      <td>2560x1600</td>\n",
              "      <td>0</td>\n",
              "      <td>3.1</td>\n",
              "      <td>Intel Core i5</td>\n",
              "      <td>256.0</td>\n",
              "      <td>0.0</td>\n",
              "      <td>650</td>\n",
              "      <td>Intel</td>\n",
              "    </tr>\n",
              "  </tbody>\n",
              "</table>\n",
              "</div>"
            ],
            "text/plain": [
              "  Company   TypeName  Inches  Ram(GB)  OpSys  Weight  Price_euros resolution  \\\n",
              "0   Apple  Ultrabook    13.3        8  macOS    1.37      1339.69  2560x1600   \n",
              "1   Apple  Ultrabook    13.3        8  macOS    1.34       898.94   1440x900   \n",
              "2      HP   Notebook    15.6        8  No OS    1.86       575.00  1920x1080   \n",
              "3   Apple  Ultrabook    15.4       16  macOS    1.83      2537.45  2880x1800   \n",
              "4   Apple  Ultrabook    13.3        8  macOS    1.37      1803.60  2560x1600   \n",
              "\n",
              "   touchscreen  cpu_freq(GHz)      cpu_brand    SSD  HDD  gpu_model gpu_brand  \n",
              "0            0            2.3  Intel Core i5  128.0  0.0        640     Intel  \n",
              "1            0            1.8  Intel Core i5  128.0  0.0       6000     Intel  \n",
              "2            0            2.5  Intel Core i5  256.0  0.0        620     Intel  \n",
              "3            0            2.7  Intel Core i7  512.0  0.0        455       AMD  \n",
              "4            0            3.1  Intel Core i5  256.0  0.0        650     Intel  "
            ]
          },
          "execution_count": 30,
          "metadata": {},
          "output_type": "execute_result"
        }
      ],
      "source": [
        "df.head()"
      ]
    },
    {
      "cell_type": "markdown",
      "metadata": {},
      "source": [
        "# Data Analysis"
      ]
    },
    {
      "cell_type": "code",
      "execution_count": 31,
      "metadata": {},
      "outputs": [
        {
          "name": "stderr",
          "output_type": "stream",
          "text": [
            "C:\\Users\\das-s\\AppData\\Local\\Temp\\ipykernel_25028\\1256659789.py:7: FutureWarning: \n",
            "\n",
            "Passing `palette` without assigning `hue` is deprecated and will be removed in v0.14.0. Assign the `x` variable to `hue` and set `legend=False` for the same effect.\n",
            "\n",
            "  ax=sns.barplot(x='Company', y='Price_euros', data=df[df['Company'].isin(company_list)], palette='Spectral', errorbar=('ci', False),)\n"
          ]
        },
        {
          "data": {
            "image/png": "[encoded data removed]",
            "text/plain": [
              "<Figure size 900x500 with 1 Axes>"
            ]
          },
          "metadata": {},
          "output_type": "display_data"
        }
      ],
      "source": [
        "import matplotlib.pyplot as plt\n",
        "import seaborn as sns\n",
        "\n",
        "company_list = df['Company'].value_counts().index[:8].tolist()\n",
        "\n",
        "plt.figure(figsize=(9,5))\n",
        "ax=sns.barplot(x='Company', y='Price_euros', data=df[df['Company'].isin(company_list)], palette='Spectral', errorbar=('ci', False),)\n",
        "plt.title('Average price of laptops by company')\n",
        "plt.show()"
      ]
    },
    {
      "cell_type": "code",
      "execution_count": 32,
      "metadata": {},
      "outputs": [
        {
          "name": "stderr",
          "output_type": "stream",
          "text": [
            "C:\\Users\\das-s\\AppData\\Local\\Temp\\ipykernel_25028\\333696910.py:4: FutureWarning: \n",
            "\n",
            "Passing `palette` without assigning `hue` is deprecated and will be removed in v0.14.0. Assign the `x` variable to `hue` and set `legend=False` for the same effect.\n",
            "\n",
            "  ax=sns.barplot(x='cpu_brand', y='Price_euros', data=df[df['cpu_brand'].isin(cpu_list)], palette='Spectral', errorbar=('ci', False),)\n"
          ]
        },
        {
          "data": {
            "image/png": "[encoded data removed]",
            "text/plain": [
              "<Figure size 900x500 with 1 Axes>"
            ]
          },
          "metadata": {},
          "output_type": "display_data"
        }
      ],
      "source": [
        "cpu_list = df['cpu_brand'].value_counts().index[:8].tolist()\n",
        "\n",
        "plt.figure(figsize=(9,5))\n",
        "ax=sns.barplot(x='cpu_brand', y='Price_euros', data=df[df['cpu_brand'].isin(cpu_list)], palette='Spectral', errorbar=('ci', False),)\n",
        "plt.title('Average price of laptops by cpu')\n",
        "plt.show()"
      ]
    },
    {
      "cell_type": "code",
      "execution_count": 33,
      "metadata": {},
      "outputs": [
        {
          "data": {
            "text/plain": [
              "<Axes: xlabel='HDD'>"
            ]
          },
          "execution_count": 33,
          "metadata": {},
          "output_type": "execute_result"
        },
        {
          "data": {
            "image/png": "[encoded data removed]",
            "text/plain": [
              "<Figure size 1200x1200 with 7 Axes>"
            ]
          },
          "metadata": {},
          "output_type": "display_data"
        }
      ],
      "source": [
        "import matplotlib.pyplot as plt\n",
        "\n",
        "plt.figure(figsize=(12, 12))\n",
        "\n",
        "plt.subplot(3, 3, 1)\n",
        "sns.boxplot(data=df, x='Inches')\n",
        "\n",
        "plt.subplot(3, 3, 2)\n",
        "sns.boxplot(data=df, x='Ram(GB)')\n",
        "\n",
        "plt.subplot(3, 3, 3)\n",
        "sns.boxplot(data=df, x='Weight')\n",
        "\n",
        "plt.subplot(3, 3, 4)\n",
        "sns.boxplot(data=df, x='Price_euros')\n",
        "\n",
        "plt.subplot(3, 3, 5)\n",
        "sns.boxplot(data=df, x='cpu_freq(GHz)')\n",
        "\n",
        "plt.subplot(3, 3, 6)\n",
        "sns.boxplot(data=df, x='SSD')\n",
        "\n",
        "plt.subplot(3, 3, 7)\n",
        "sns.boxplot(data=df, x='HDD')"
      ]
    },
    {
      "cell_type": "code",
      "execution_count": 34,
      "metadata": {},
      "outputs": [
        {
          "data": {
            "text/html": [
              "<div>\n",
              "<style scoped>\n",
              "    .dataframe tbody tr th:only-of-type {\n",
              "        vertical-align: middle;\n",
              "    }\n",
              "\n",
              "    .dataframe tbody tr th {\n",
              "        vertical-align: top;\n",
              "    }\n",
              "\n",
              "    .dataframe thead th {\n",
              "        text-align: right;\n",
              "    }\n",
              "</style>\n",
              "<table border=\"1\" class=\"dataframe\">\n",
              "  <thead>\n",
              "    <tr style=\"text-align: right;\">\n",
              "      <th></th>\n",
              "      <th>Company</th>\n",
              "      <th>TypeName</th>\n",
              "      <th>Inches</th>\n",
              "      <th>Ram(GB)</th>\n",
              "      <th>OpSys</th>\n",
              "      <th>Weight</th>\n",
              "      <th>Price_euros</th>\n",
              "      <th>resolution</th>\n",
              "      <th>touchscreen</th>\n",
              "      <th>cpu_freq(GHz)</th>\n",
              "      <th>cpu_brand</th>\n",
              "      <th>SSD</th>\n",
              "      <th>HDD</th>\n",
              "      <th>gpu_model</th>\n",
              "      <th>gpu_brand</th>\n",
              "    </tr>\n",
              "  </thead>\n",
              "  <tbody>\n",
              "    <tr>\n",
              "      <th>1066</th>\n",
              "      <td>Asus</td>\n",
              "      <td>Gaming</td>\n",
              "      <td>17.3</td>\n",
              "      <td>64</td>\n",
              "      <td>Windows 10</td>\n",
              "      <td>3.58</td>\n",
              "      <td>3975.0</td>\n",
              "      <td>1920x1080</td>\n",
              "      <td>0</td>\n",
              "      <td>2.7</td>\n",
              "      <td>Intel Core i7</td>\n",
              "      <td>1024.0</td>\n",
              "      <td>0.0</td>\n",
              "      <td>980</td>\n",
              "      <td>Nvidia</td>\n",
              "    </tr>\n",
              "  </tbody>\n",
              "</table>\n",
              "</div>"
            ],
            "text/plain": [
              "     Company TypeName  Inches  Ram(GB)       OpSys  Weight  Price_euros  \\\n",
              "1066    Asus   Gaming    17.3       64  Windows 10    3.58       3975.0   \n",
              "\n",
              "     resolution  touchscreen  cpu_freq(GHz)      cpu_brand     SSD  HDD  \\\n",
              "1066  1920x1080            0            2.7  Intel Core i7  1024.0  0.0   \n",
              "\n",
              "      gpu_model gpu_brand  \n",
              "1066        980    Nvidia  "
            ]
          },
          "execution_count": 34,
          "metadata": {},
          "output_type": "execute_result"
        }
      ],
      "source": [
        "df[df['Ram(GB)'] > 60]"
      ]
    },
    {
      "cell_type": "code",
      "execution_count": 35,
      "metadata": {},
      "outputs": [
        {
          "data": {
            "text/html": [
              "<div>\n",
              "<style scoped>\n",
              "    .dataframe tbody tr th:only-of-type {\n",
              "        vertical-align: middle;\n",
              "    }\n",
              "\n",
              "    .dataframe tbody tr th {\n",
              "        vertical-align: top;\n",
              "    }\n",
              "\n",
              "    .dataframe thead th {\n",
              "        text-align: right;\n",
              "    }\n",
              "</style>\n",
              "<table border=\"1\" class=\"dataframe\">\n",
              "  <thead>\n",
              "    <tr style=\"text-align: right;\">\n",
              "      <th></th>\n",
              "      <th>Company</th>\n",
              "      <th>TypeName</th>\n",
              "      <th>Inches</th>\n",
              "      <th>Ram(GB)</th>\n",
              "      <th>OpSys</th>\n",
              "      <th>Weight</th>\n",
              "      <th>Price_euros</th>\n",
              "      <th>resolution</th>\n",
              "      <th>touchscreen</th>\n",
              "      <th>cpu_freq(GHz)</th>\n",
              "      <th>cpu_brand</th>\n",
              "      <th>SSD</th>\n",
              "      <th>HDD</th>\n",
              "      <th>gpu_model</th>\n",
              "      <th>gpu_brand</th>\n",
              "    </tr>\n",
              "  </thead>\n",
              "  <tbody>\n",
              "    <tr>\n",
              "      <th>950</th>\n",
              "      <td>HP</td>\n",
              "      <td>Workstation</td>\n",
              "      <td>15.6</td>\n",
              "      <td>8</td>\n",
              "      <td>Windows 10</td>\n",
              "      <td>2.0</td>\n",
              "      <td>2249.0</td>\n",
              "      <td>1920x1080</td>\n",
              "      <td>0</td>\n",
              "      <td>2.7</td>\n",
              "      <td>Intel Core i7</td>\n",
              "      <td>8192.0</td>\n",
              "      <td>0.0</td>\n",
              "      <td>1000</td>\n",
              "      <td>Nvidia</td>\n",
              "    </tr>\n",
              "  </tbody>\n",
              "</table>\n",
              "</div>"
            ],
            "text/plain": [
              "    Company     TypeName  Inches  Ram(GB)       OpSys  Weight  Price_euros  \\\n",
              "950      HP  Workstation    15.6        8  Windows 10     2.0       2249.0   \n",
              "\n",
              "    resolution  touchscreen  cpu_freq(GHz)      cpu_brand     SSD  HDD  \\\n",
              "950  1920x1080            0            2.7  Intel Core i7  8192.0  0.0   \n",
              "\n",
              "     gpu_model gpu_brand  \n",
              "950       1000    Nvidia  "
            ]
          },
          "execution_count": 35,
          "metadata": {},
          "output_type": "execute_result"
        }
      ],
      "source": [
        "df[df['SSD'] > 8000]"
      ]
    },
    {
      "cell_type": "code",
      "execution_count": 36,
      "metadata": {},
      "outputs": [
        {
          "data": {
            "text/plain": [
              "<Axes: xlabel='SSD'>"
            ]
          },
          "execution_count": 36,
          "metadata": {},
          "output_type": "execute_result"
        },
        {
          "data": {
            "image/png": "[encoded data removed]",
            "text/plain": [
              "<Figure size 400x300 with 1 Axes>"
            ]
          },
          "metadata": {},
          "output_type": "display_data"
        }
      ],
      "source": [
        "def count_whisker(data, column):\n",
        "    q1 = data[column].quantile(0.25) # Определение 25% процентиль\n",
        "    q3 = data[column].quantile(0.75) # Определение 75% процентиль\n",
        "    iqr = q3 - q1 # Определение размера ящика\n",
        "    lower_whisker = q1 - 1.5 * iqr # Определение нижнего усика\n",
        "    upper_whisker = q3 + 1.5 * iqr # Определение верхнего усика\n",
        "    return lower_whisker, upper_whisker\n",
        "    \n",
        "df['SSD'].replace([8192.0], count_whisker(df, 'SSD')[1], inplace=True)\n",
        "\n",
        "plt.figure(figsize=(4, 3))\n",
        "sns.boxplot(data=df, x='SSD')"
      ]
    },
    {
      "cell_type": "code",
      "execution_count": 37,
      "metadata": {},
      "outputs": [
        {
          "data": {
            "image/png": "[encoded data removed]",
            "text/plain": [
              "<Figure size 600x400 with 1 Axes>"
            ]
          },
          "metadata": {},
          "output_type": "display_data"
        }
      ],
      "source": [
        "plt.figure(figsize=(6, 4))\n",
        "sns.histplot(df[\"Price_euros\"], kde=True, bins=20)\n",
        "plt.xlabel(\"Price_euros\")\n",
        "plt.ylabel(\"Frequency\")\n",
        "plt.show()"
      ]
    },
    {
      "cell_type": "markdown",
      "metadata": {},
      "source": [
        "# Data preprocessing"
      ]
    },
    {
      "cell_type": "code",
      "execution_count": 38,
      "metadata": {},
      "outputs": [
        {
          "data": {
            "text/html": [
              "<div>\n",
              "<style scoped>\n",
              "    .dataframe tbody tr th:only-of-type {\n",
              "        vertical-align: middle;\n",
              "    }\n",
              "\n",
              "    .dataframe tbody tr th {\n",
              "        vertical-align: top;\n",
              "    }\n",
              "\n",
              "    .dataframe thead th {\n",
              "        text-align: right;\n",
              "    }\n",
              "</style>\n",
              "<table border=\"1\" class=\"dataframe\">\n",
              "  <thead>\n",
              "    <tr style=\"text-align: right;\">\n",
              "      <th></th>\n",
              "      <th>Company</th>\n",
              "      <th>TypeName</th>\n",
              "      <th>Inches</th>\n",
              "      <th>Ram(GB)</th>\n",
              "      <th>OpSys</th>\n",
              "      <th>Weight</th>\n",
              "      <th>Price_euros</th>\n",
              "      <th>resolution</th>\n",
              "      <th>touchscreen</th>\n",
              "      <th>cpu_freq(GHz)</th>\n",
              "      <th>cpu_brand</th>\n",
              "      <th>SSD</th>\n",
              "      <th>HDD</th>\n",
              "      <th>gpu_model</th>\n",
              "      <th>gpu_brand</th>\n",
              "    </tr>\n",
              "  </thead>\n",
              "  <tbody>\n",
              "    <tr>\n",
              "      <th>0</th>\n",
              "      <td>Apple</td>\n",
              "      <td>Ultrabook</td>\n",
              "      <td>13.3</td>\n",
              "      <td>8</td>\n",
              "      <td>macOS</td>\n",
              "      <td>1.37</td>\n",
              "      <td>1339.69</td>\n",
              "      <td>2560x1600</td>\n",
              "      <td>0</td>\n",
              "      <td>2.3</td>\n",
              "      <td>Intel Core i5</td>\n",
              "      <td>128.0</td>\n",
              "      <td>0.0</td>\n",
              "      <td>640</td>\n",
              "      <td>Intel</td>\n",
              "    </tr>\n",
              "    <tr>\n",
              "      <th>1</th>\n",
              "      <td>Apple</td>\n",
              "      <td>Ultrabook</td>\n",
              "      <td>13.3</td>\n",
              "      <td>8</td>\n",
              "      <td>macOS</td>\n",
              "      <td>1.34</td>\n",
              "      <td>898.94</td>\n",
              "      <td>1440x900</td>\n",
              "      <td>0</td>\n",
              "      <td>1.8</td>\n",
              "      <td>Intel Core i5</td>\n",
              "      <td>128.0</td>\n",
              "      <td>0.0</td>\n",
              "      <td>6000</td>\n",
              "      <td>Intel</td>\n",
              "    </tr>\n",
              "    <tr>\n",
              "      <th>2</th>\n",
              "      <td>HP</td>\n",
              "      <td>Notebook</td>\n",
              "      <td>15.6</td>\n",
              "      <td>8</td>\n",
              "      <td>No OS</td>\n",
              "      <td>1.86</td>\n",
              "      <td>575.00</td>\n",
              "      <td>1920x1080</td>\n",
              "      <td>0</td>\n",
              "      <td>2.5</td>\n",
              "      <td>Intel Core i5</td>\n",
              "      <td>256.0</td>\n",
              "      <td>0.0</td>\n",
              "      <td>620</td>\n",
              "      <td>Intel</td>\n",
              "    </tr>\n",
              "    <tr>\n",
              "      <th>3</th>\n",
              "      <td>Apple</td>\n",
              "      <td>Ultrabook</td>\n",
              "      <td>15.4</td>\n",
              "      <td>16</td>\n",
              "      <td>macOS</td>\n",
              "      <td>1.83</td>\n",
              "      <td>2537.45</td>\n",
              "      <td>2880x1800</td>\n",
              "      <td>0</td>\n",
              "      <td>2.7</td>\n",
              "      <td>Intel Core i7</td>\n",
              "      <td>512.0</td>\n",
              "      <td>0.0</td>\n",
              "      <td>455</td>\n",
              "      <td>AMD</td>\n",
              "    </tr>\n",
              "    <tr>\n",
              "      <th>4</th>\n",
              "      <td>Apple</td>\n",
              "      <td>Ultrabook</td>\n",
              "      <td>13.3</td>\n",
              "      <td>8</td>\n",
              "      <td>macOS</td>\n",
              "      <td>1.37</td>\n",
              "      <td>1803.60</td>\n",
              "      <td>2560x1600</td>\n",
              "      <td>0</td>\n",
              "      <td>3.1</td>\n",
              "      <td>Intel Core i5</td>\n",
              "      <td>256.0</td>\n",
              "      <td>0.0</td>\n",
              "      <td>650</td>\n",
              "      <td>Intel</td>\n",
              "    </tr>\n",
              "  </tbody>\n",
              "</table>\n",
              "</div>"
            ],
            "text/plain": [
              "  Company   TypeName  Inches  Ram(GB)  OpSys  Weight  Price_euros resolution  \\\n",
              "0   Apple  Ultrabook    13.3        8  macOS    1.37      1339.69  2560x1600   \n",
              "1   Apple  Ultrabook    13.3        8  macOS    1.34       898.94   1440x900   \n",
              "2      HP   Notebook    15.6        8  No OS    1.86       575.00  1920x1080   \n",
              "3   Apple  Ultrabook    15.4       16  macOS    1.83      2537.45  2880x1800   \n",
              "4   Apple  Ultrabook    13.3        8  macOS    1.37      1803.60  2560x1600   \n",
              "\n",
              "   touchscreen  cpu_freq(GHz)      cpu_brand    SSD  HDD  gpu_model gpu_brand  \n",
              "0            0            2.3  Intel Core i5  128.0  0.0        640     Intel  \n",
              "1            0            1.8  Intel Core i5  128.0  0.0       6000     Intel  \n",
              "2            0            2.5  Intel Core i5  256.0  0.0        620     Intel  \n",
              "3            0            2.7  Intel Core i7  512.0  0.0        455       AMD  \n",
              "4            0            3.1  Intel Core i5  256.0  0.0        650     Intel  "
            ]
          },
          "execution_count": 38,
          "metadata": {},
          "output_type": "execute_result"
        }
      ],
      "source": [
        "df.head()"
      ]
    },
    {
      "cell_type": "code",
      "execution_count": 39,
      "metadata": {},
      "outputs": [
        {
          "data": {
            "text/plain": [
              "OpSys\n",
              "Windows 10      1047\n",
              "No OS             66\n",
              "Linux             58\n",
              "Windows 7         45\n",
              "Chrome OS         26\n",
              "macOS             13\n",
              "Mac OS X           8\n",
              "Windows 10 S       8\n",
              "Android            2\n",
              "Name: count, dtype: int64"
            ]
          },
          "execution_count": 39,
          "metadata": {},
          "output_type": "execute_result"
        }
      ],
      "source": [
        "df['OpSys'].value_counts()"
      ]
    },
    {
      "cell_type": "code",
      "execution_count": 40,
      "metadata": {},
      "outputs": [],
      "source": [
        "#finding the x_res and y_res from screen resolution \n",
        "df['x_res']=df['resolution'].apply(lambda x:x.split()[-1].split('x')[0])\n",
        "df['y_res']=df['resolution'].apply(lambda x:x.split()[-1].split('x')[1])\n",
        "#convert to numeric\n",
        "df['x_res']=df['x_res'].astype('int')\n",
        "df['y_res']=df['y_res'].astype('int')"
      ]
    },
    {
      "cell_type": "code",
      "execution_count": 41,
      "metadata": {},
      "outputs": [
        {
          "data": {
            "text/html": [
              "<div>\n",
              "<style scoped>\n",
              "    .dataframe tbody tr th:only-of-type {\n",
              "        vertical-align: middle;\n",
              "    }\n",
              "\n",
              "    .dataframe tbody tr th {\n",
              "        vertical-align: top;\n",
              "    }\n",
              "\n",
              "    .dataframe thead th {\n",
              "        text-align: right;\n",
              "    }\n",
              "</style>\n",
              "<table border=\"1\" class=\"dataframe\">\n",
              "  <thead>\n",
              "    <tr style=\"text-align: right;\">\n",
              "      <th></th>\n",
              "      <th>Company</th>\n",
              "      <th>TypeName</th>\n",
              "      <th>Inches</th>\n",
              "      <th>Ram(GB)</th>\n",
              "      <th>OpSys</th>\n",
              "      <th>Weight</th>\n",
              "      <th>Price_euros</th>\n",
              "      <th>touchscreen</th>\n",
              "      <th>cpu_freq(GHz)</th>\n",
              "      <th>cpu_brand</th>\n",
              "      <th>SSD</th>\n",
              "      <th>HDD</th>\n",
              "      <th>gpu_model</th>\n",
              "      <th>gpu_brand</th>\n",
              "      <th>x_res</th>\n",
              "      <th>y_res</th>\n",
              "    </tr>\n",
              "  </thead>\n",
              "  <tbody>\n",
              "    <tr>\n",
              "      <th>0</th>\n",
              "      <td>Apple</td>\n",
              "      <td>Ultrabook</td>\n",
              "      <td>13.3</td>\n",
              "      <td>8</td>\n",
              "      <td>macOS</td>\n",
              "      <td>1.37</td>\n",
              "      <td>1339.69</td>\n",
              "      <td>0</td>\n",
              "      <td>2.3</td>\n",
              "      <td>Intel Core i5</td>\n",
              "      <td>128.0</td>\n",
              "      <td>0.0</td>\n",
              "      <td>640</td>\n",
              "      <td>Intel</td>\n",
              "      <td>2560</td>\n",
              "      <td>1600</td>\n",
              "    </tr>\n",
              "    <tr>\n",
              "      <th>1</th>\n",
              "      <td>Apple</td>\n",
              "      <td>Ultrabook</td>\n",
              "      <td>13.3</td>\n",
              "      <td>8</td>\n",
              "      <td>macOS</td>\n",
              "      <td>1.34</td>\n",
              "      <td>898.94</td>\n",
              "      <td>0</td>\n",
              "      <td>1.8</td>\n",
              "      <td>Intel Core i5</td>\n",
              "      <td>128.0</td>\n",
              "      <td>0.0</td>\n",
              "      <td>6000</td>\n",
              "      <td>Intel</td>\n",
              "      <td>1440</td>\n",
              "      <td>900</td>\n",
              "    </tr>\n",
              "    <tr>\n",
              "      <th>2</th>\n",
              "      <td>HP</td>\n",
              "      <td>Notebook</td>\n",
              "      <td>15.6</td>\n",
              "      <td>8</td>\n",
              "      <td>No OS</td>\n",
              "      <td>1.86</td>\n",
              "      <td>575.00</td>\n",
              "      <td>0</td>\n",
              "      <td>2.5</td>\n",
              "      <td>Intel Core i5</td>\n",
              "      <td>256.0</td>\n",
              "      <td>0.0</td>\n",
              "      <td>620</td>\n",
              "      <td>Intel</td>\n",
              "      <td>1920</td>\n",
              "      <td>1080</td>\n",
              "    </tr>\n",
              "    <tr>\n",
              "      <th>3</th>\n",
              "      <td>Apple</td>\n",
              "      <td>Ultrabook</td>\n",
              "      <td>15.4</td>\n",
              "      <td>16</td>\n",
              "      <td>macOS</td>\n",
              "      <td>1.83</td>\n",
              "      <td>2537.45</td>\n",
              "      <td>0</td>\n",
              "      <td>2.7</td>\n",
              "      <td>Intel Core i7</td>\n",
              "      <td>512.0</td>\n",
              "      <td>0.0</td>\n",
              "      <td>455</td>\n",
              "      <td>AMD</td>\n",
              "      <td>2880</td>\n",
              "      <td>1800</td>\n",
              "    </tr>\n",
              "    <tr>\n",
              "      <th>4</th>\n",
              "      <td>Apple</td>\n",
              "      <td>Ultrabook</td>\n",
              "      <td>13.3</td>\n",
              "      <td>8</td>\n",
              "      <td>macOS</td>\n",
              "      <td>1.37</td>\n",
              "      <td>1803.60</td>\n",
              "      <td>0</td>\n",
              "      <td>3.1</td>\n",
              "      <td>Intel Core i5</td>\n",
              "      <td>256.0</td>\n",
              "      <td>0.0</td>\n",
              "      <td>650</td>\n",
              "      <td>Intel</td>\n",
              "      <td>2560</td>\n",
              "      <td>1600</td>\n",
              "    </tr>\n",
              "  </tbody>\n",
              "</table>\n",
              "</div>"
            ],
            "text/plain": [
              "  Company   TypeName  Inches  Ram(GB)  OpSys  Weight  Price_euros  \\\n",
              "0   Apple  Ultrabook    13.3        8  macOS    1.37      1339.69   \n",
              "1   Apple  Ultrabook    13.3        8  macOS    1.34       898.94   \n",
              "2      HP   Notebook    15.6        8  No OS    1.86       575.00   \n",
              "3   Apple  Ultrabook    15.4       16  macOS    1.83      2537.45   \n",
              "4   Apple  Ultrabook    13.3        8  macOS    1.37      1803.60   \n",
              "\n",
              "   touchscreen  cpu_freq(GHz)      cpu_brand    SSD  HDD  gpu_model gpu_brand  \\\n",
              "0            0            2.3  Intel Core i5  128.0  0.0        640     Intel   \n",
              "1            0            1.8  Intel Core i5  128.0  0.0       6000     Intel   \n",
              "2            0            2.5  Intel Core i5  256.0  0.0        620     Intel   \n",
              "3            0            2.7  Intel Core i7  512.0  0.0        455       AMD   \n",
              "4            0            3.1  Intel Core i5  256.0  0.0        650     Intel   \n",
              "\n",
              "   x_res  y_res  \n",
              "0   2560   1600  \n",
              "1   1440    900  \n",
              "2   1920   1080  \n",
              "3   2880   1800  \n",
              "4   2560   1600  "
            ]
          },
          "execution_count": 41,
          "metadata": {},
          "output_type": "execute_result"
        }
      ],
      "source": [
        "df.drop('resolution', axis=1, inplace=True)\n",
        "df.head()"
      ]
    },
    {
      "cell_type": "code",
      "execution_count": 42,
      "metadata": {},
      "outputs": [
        {
          "data": {
            "text/plain": [
              "gpu_model\n",
              "620     355\n",
              "520     201\n",
              "1050     71\n",
              "0        64\n",
              "940      54\n",
              "       ... \n",
              "7         1\n",
              "5130      1\n",
              "555       1\n",
              "455       1\n",
              "360       1\n",
              "Name: count, Length: 62, dtype: int64"
            ]
          },
          "execution_count": 42,
          "metadata": {},
          "output_type": "execute_result"
        }
      ],
      "source": [
        "df['gpu_model'].value_counts()"
      ]
    },
    {
      "cell_type": "code",
      "execution_count": 43,
      "metadata": {},
      "outputs": [],
      "source": [
        "df.drop('gpu_model', axis=1, inplace=True)"
      ]
    },
    {
      "cell_type": "code",
      "execution_count": 44,
      "metadata": {},
      "outputs": [
        {
          "data": {
            "text/plain": [
              "TypeName\n",
              "Notebook              706\n",
              "Gaming                205\n",
              "Ultrabook             194\n",
              "2 in 1 Convertible    116\n",
              "Workstation            29\n",
              "Netbook                23\n",
              "Name: count, dtype: int64"
            ]
          },
          "execution_count": 44,
          "metadata": {},
          "output_type": "execute_result"
        }
      ],
      "source": [
        "df['TypeName'].value_counts()"
      ]
    },
    {
      "cell_type": "code",
      "execution_count": 45,
      "metadata": {},
      "outputs": [],
      "source": [
        "def get_os(a):\n",
        "    if a=='Windows 10'or a=='Windows 10 S'or a=='Windows 7':\n",
        "        return 'Windows'\n",
        "    elif a=='macOS'or a=='Mac OS X':\n",
        "        return 'Mac'\n",
        "    else:\n",
        "        return 'Others/No OS/Linux'\n",
        "    \n",
        "df['OpSys']=df['OpSys'].apply(get_os) "
      ]
    },
    {
      "cell_type": "code",
      "execution_count": 46,
      "metadata": {},
      "outputs": [
        {
          "data": {
            "text/html": [
              "<div>\n",
              "<style scoped>\n",
              "    .dataframe tbody tr th:only-of-type {\n",
              "        vertical-align: middle;\n",
              "    }\n",
              "\n",
              "    .dataframe tbody tr th {\n",
              "        vertical-align: top;\n",
              "    }\n",
              "\n",
              "    .dataframe thead th {\n",
              "        text-align: right;\n",
              "    }\n",
              "</style>\n",
              "<table border=\"1\" class=\"dataframe\">\n",
              "  <thead>\n",
              "    <tr style=\"text-align: right;\">\n",
              "      <th></th>\n",
              "      <th>Company</th>\n",
              "      <th>TypeName</th>\n",
              "      <th>Inches</th>\n",
              "      <th>Ram(GB)</th>\n",
              "      <th>OpSys</th>\n",
              "      <th>Weight</th>\n",
              "      <th>Price_euros</th>\n",
              "      <th>touchscreen</th>\n",
              "      <th>cpu_freq(GHz)</th>\n",
              "      <th>cpu_brand</th>\n",
              "      <th>SSD</th>\n",
              "      <th>HDD</th>\n",
              "      <th>gpu_brand</th>\n",
              "      <th>x_res</th>\n",
              "      <th>y_res</th>\n",
              "    </tr>\n",
              "  </thead>\n",
              "  <tbody>\n",
              "    <tr>\n",
              "      <th>0</th>\n",
              "      <td>1</td>\n",
              "      <td>4</td>\n",
              "      <td>13.3</td>\n",
              "      <td>8</td>\n",
              "      <td>0</td>\n",
              "      <td>1.37</td>\n",
              "      <td>1339.69</td>\n",
              "      <td>0</td>\n",
              "      <td>2.3</td>\n",
              "      <td>2</td>\n",
              "      <td>128.0</td>\n",
              "      <td>0.0</td>\n",
              "      <td>1</td>\n",
              "      <td>2560</td>\n",
              "      <td>1600</td>\n",
              "    </tr>\n",
              "    <tr>\n",
              "      <th>1</th>\n",
              "      <td>1</td>\n",
              "      <td>4</td>\n",
              "      <td>13.3</td>\n",
              "      <td>8</td>\n",
              "      <td>0</td>\n",
              "      <td>1.34</td>\n",
              "      <td>898.94</td>\n",
              "      <td>0</td>\n",
              "      <td>1.8</td>\n",
              "      <td>2</td>\n",
              "      <td>128.0</td>\n",
              "      <td>0.0</td>\n",
              "      <td>1</td>\n",
              "      <td>1440</td>\n",
              "      <td>900</td>\n",
              "    </tr>\n",
              "    <tr>\n",
              "      <th>2</th>\n",
              "      <td>7</td>\n",
              "      <td>3</td>\n",
              "      <td>15.6</td>\n",
              "      <td>8</td>\n",
              "      <td>1</td>\n",
              "      <td>1.86</td>\n",
              "      <td>575.00</td>\n",
              "      <td>0</td>\n",
              "      <td>2.5</td>\n",
              "      <td>2</td>\n",
              "      <td>256.0</td>\n",
              "      <td>0.0</td>\n",
              "      <td>1</td>\n",
              "      <td>1920</td>\n",
              "      <td>1080</td>\n",
              "    </tr>\n",
              "    <tr>\n",
              "      <th>3</th>\n",
              "      <td>1</td>\n",
              "      <td>4</td>\n",
              "      <td>15.4</td>\n",
              "      <td>16</td>\n",
              "      <td>0</td>\n",
              "      <td>1.83</td>\n",
              "      <td>2537.45</td>\n",
              "      <td>0</td>\n",
              "      <td>2.7</td>\n",
              "      <td>3</td>\n",
              "      <td>512.0</td>\n",
              "      <td>0.0</td>\n",
              "      <td>0</td>\n",
              "      <td>2880</td>\n",
              "      <td>1800</td>\n",
              "    </tr>\n",
              "    <tr>\n",
              "      <th>4</th>\n",
              "      <td>1</td>\n",
              "      <td>4</td>\n",
              "      <td>13.3</td>\n",
              "      <td>8</td>\n",
              "      <td>0</td>\n",
              "      <td>1.37</td>\n",
              "      <td>1803.60</td>\n",
              "      <td>0</td>\n",
              "      <td>3.1</td>\n",
              "      <td>2</td>\n",
              "      <td>256.0</td>\n",
              "      <td>0.0</td>\n",
              "      <td>1</td>\n",
              "      <td>2560</td>\n",
              "      <td>1600</td>\n",
              "    </tr>\n",
              "  </tbody>\n",
              "</table>\n",
              "</div>"
            ],
            "text/plain": [
              "   Company  TypeName  Inches  Ram(GB)  OpSys  Weight  Price_euros  \\\n",
              "0        1         4    13.3        8      0    1.37      1339.69   \n",
              "1        1         4    13.3        8      0    1.34       898.94   \n",
              "2        7         3    15.6        8      1    1.86       575.00   \n",
              "3        1         4    15.4       16      0    1.83      2537.45   \n",
              "4        1         4    13.3        8      0    1.37      1803.60   \n",
              "\n",
              "   touchscreen  cpu_freq(GHz)  cpu_brand    SSD  HDD  gpu_brand  x_res  y_res  \n",
              "0            0            2.3          2  128.0  0.0          1   2560   1600  \n",
              "1            0            1.8          2  128.0  0.0          1   1440    900  \n",
              "2            0            2.5          2  256.0  0.0          1   1920   1080  \n",
              "3            0            2.7          3  512.0  0.0          0   2880   1800  \n",
              "4            0            3.1          2  256.0  0.0          1   2560   1600  "
            ]
          },
          "execution_count": 46,
          "metadata": {},
          "output_type": "execute_result"
        }
      ],
      "source": [
        "from sklearn.preprocessing import LabelEncoder\n",
        "\n",
        "cols=['Company','TypeName','OpSys','cpu_brand','gpu_brand']\n",
        "\n",
        "la= LabelEncoder()\n",
        "for i in cols:\n",
        "    df[i] = la.fit_transform(df[i])\n",
        "df.head()"
      ]
    },
    {
      "cell_type": "code",
      "execution_count": 47,
      "metadata": {},
      "outputs": [
        {
          "data": {
            "image/png": "[encoded data removed]",
            "text/plain": [
              "<Figure size 1000x1000 with 2 Axes>"
            ]
          },
          "metadata": {},
          "output_type": "display_data"
        }
      ],
      "source": [
        "correlation_matrix = df.corr()\n",
        "plt.figure(figsize=(10, 10))\n",
        "sns.heatmap(correlation_matrix, annot=True, cmap=\"coolwarm\")\n",
        "plt.title(\"Correlation matrix\")\n",
        "plt.show()"
      ]
    },
    {
      "cell_type": "code",
      "execution_count": 48,
      "metadata": {},
      "outputs": [],
      "source": [
        "df[\"ScreenResolution\"]=(df[\"x_res\"]*df[\"y_res\"]).astype(float)\n",
        "df.drop('x_res', axis=1, inplace=True)\n",
        "df.drop('y_res', axis=1, inplace=True)"
      ]
    },
    {
      "cell_type": "code",
      "execution_count": 49,
      "metadata": {},
      "outputs": [
        {
          "data": {
            "image/png": "[encoded data removed]",
            "text/plain": [
              "<Figure size 1000x600 with 1 Axes>"
            ]
          },
          "metadata": {},
          "output_type": "display_data"
        }
      ],
      "source": [
        "from sklearn.feature_selection import mutual_info_regression\n",
        "\n",
        "x = df.drop('Price_euros', axis=1)\n",
        "y = df['Price_euros']\n",
        "# Вычисление важности признаков с использованием mutual information на ваших данных X_train и y_train \n",
        "mutual_info = mutual_info_regression(x, y, random_state=42)\n",
        "# Создание DataFrame для отображения результатов\n",
        "feature_importance_df = pd.DataFrame({'Feature': x.columns, 'Importance': mutual_info})\n",
        "# Сортировка по важности\n",
        "feature_importance_df = feature_importance_df.sort_values(by='Importance', ascending=True)\n",
        "# Визуализация важности признаков\n",
        "plt.figure(figsize=(10, 6))\n",
        "plt.barh(feature_importance_df['Feature'], feature_importance_df['Importance'])\n",
        "plt.title('Feature Importance')\n",
        "plt.show()\n"
      ]
    },
    {
      "cell_type": "code",
      "execution_count": 50,
      "metadata": {},
      "outputs": [],
      "source": [
        "df.drop('touchscreen', axis=1, inplace=True)"
      ]
    },
    {
      "cell_type": "code",
      "execution_count": 51,
      "metadata": {},
      "outputs": [],
      "source": [
        "x = df.drop('Price_euros', axis=1)\n",
        "y = df['Price_euros']"
      ]
    },
    {
      "cell_type": "markdown",
      "metadata": {},
      "source": [
        "# Model creation"
      ]
    },
    {
      "cell_type": "code",
      "execution_count": 52,
      "metadata": {},
      "outputs": [],
      "source": [
        "from sklearn.model_selection import train_test_split\n",
        "from sklearn.metrics import mean_squared_error, mean_absolute_error, r2_score\n",
        "from sklearn.preprocessing import StandardScaler\n",
        "\n",
        "x_train, x_test, y_train, y_test = train_test_split(x, y, test_size=0.2, random_state=30)"
      ]
    },
    {
      "cell_type": "code",
      "execution_count": 53,
      "metadata": {},
      "outputs": [],
      "source": [
        "x_train_scaled = x_train.loc[:, ['Inches', 'Ram(GB)', 'Weight', 'cpu_freq(GHz)', 'SSD', 'HDD', 'ScreenResolution']]\n",
        "x_test_scaled = x_test.loc[:, ['Inches', 'Ram(GB)', 'Weight', 'cpu_freq(GHz)', 'SSD', 'HDD', 'ScreenResolution']]"
      ]
    },
    {
      "cell_type": "code",
      "execution_count": 54,
      "metadata": {},
      "outputs": [],
      "source": [
        "# Compute the mean and standard deviation of the training set then transform it\n",
        "scaler_linear = StandardScaler().fit(x_train_scaled)\n",
        "x_train_scaled = scaler_linear.transform(x_train_scaled)\n",
        "x_test_scaled = scaler_linear.transform(x_test_scaled)\n",
        "x_train = np.concatenate((x_train_scaled, x_train.drop(['Inches', 'Ram(GB)', 'Weight', 'cpu_freq(GHz)', 'SSD', 'HDD', 'ScreenResolution'], axis=1).to_numpy()), axis=1)\n",
        "x_test = np.concatenate((x_test_scaled, x_test.drop(['Inches', 'Ram(GB)', 'Weight', 'cpu_freq(GHz)', 'SSD', 'HDD', 'ScreenResolution'], axis=1).to_numpy()), axis=1)"
      ]
    },
    {
      "cell_type": "code",
      "execution_count": 55,
      "metadata": {},
      "outputs": [],
      "source": [
        "result = pd.DataFrame({'Model':[], 'Accuracy':[], 'MSE':[], 'MAE':[], 'R2':[]})"
      ]
    },
    {
      "cell_type": "code",
      "execution_count": 56,
      "metadata": {},
      "outputs": [],
      "source": [
        "def test_model(model, x_train, y_train, x_test, y_test):\n",
        "    # Train the model\n",
        "    model.fit(x_train, y_train)\n",
        "\n",
        "    # Feed the scaled training set and get the predictions\n",
        "    y_hat = model.predict(x_test)\n",
        "    accuracy = model.score(x_test, y_test)\n",
        "    test_mse = mean_squared_error(y_test, y_hat)\n",
        "    test_mae = mean_absolute_error(y_test, y_hat)\n",
        "    test_r2 = r2_score(y_test, y_hat)\n",
        "    return accuracy, test_mse, test_mae, test_r2"
      ]
    },
    {
      "cell_type": "code",
      "execution_count": 57,
      "metadata": {},
      "outputs": [
        {
          "name": "stderr",
          "output_type": "stream",
          "text": [
            "c:\\Users\\das-s\\AppData\\Local\\Programs\\Python\\Python311\\Lib\\site-packages\\sklearn\\neural_network\\_multilayer_perceptron.py:691: ConvergenceWarning: Stochastic Optimizer: Maximum iterations (200) reached and the optimization hasn't converged yet.\n",
            "  warnings.warn(\n"
          ]
        }
      ],
      "source": [
        "from sklearn.linear_model import LinearRegression\n",
        "from sklearn.tree import DecisionTreeRegressor\n",
        "from sklearn.ensemble import RandomForestRegressor\n",
        "from sklearn.svm import SVR\n",
        "from sklearn.neighbors import KNeighborsRegressor\n",
        "from sklearn.neural_network import MLPRegressor\n",
        "from sklearn.ensemble import GradientBoostingRegressor\n",
        "\n",
        "models = []\n",
        "linear = LinearRegression()\n",
        "decision_tree = DecisionTreeRegressor()\n",
        "rendom_forest = RandomForestRegressor()\n",
        "svr = SVR()\n",
        "k_neighbors = KNeighborsRegressor()\n",
        "mlp = MLPRegressor()\n",
        "gradient_boosting = GradientBoostingRegressor()\n",
        "models.append(linear)\n",
        "models.append(decision_tree)\n",
        "models.append(rendom_forest)\n",
        "models.append(svr)\n",
        "models.append(k_neighbors)\n",
        "models.append(mlp)\n",
        "models.append(gradient_boosting)\n",
        "\n",
        "for model in models:\n",
        "    accuracy, test_mse, test_mae, test_r2 = test_model(model, x_train, y_train, x_test, y_test)\n",
        "    result.loc[len(result.index)] = [str(model), accuracy, test_mse, test_mae, test_r2] \n",
        "\n"
      ]
    },
    {
      "cell_type": "code",
      "execution_count": 58,
      "metadata": {},
      "outputs": [
        {
          "data": {
            "text/html": [
              "<div>\n",
              "<style scoped>\n",
              "    .dataframe tbody tr th:only-of-type {\n",
              "        vertical-align: middle;\n",
              "    }\n",
              "\n",
              "    .dataframe tbody tr th {\n",
              "        vertical-align: top;\n",
              "    }\n",
              "\n",
              "    .dataframe thead th {\n",
              "        text-align: right;\n",
              "    }\n",
              "</style>\n",
              "<table border=\"1\" class=\"dataframe\">\n",
              "  <thead>\n",
              "    <tr style=\"text-align: right;\">\n",
              "      <th></th>\n",
              "      <th>Model</th>\n",
              "      <th>Accuracy</th>\n",
              "      <th>MSE</th>\n",
              "      <th>MAE</th>\n",
              "      <th>R2</th>\n",
              "    </tr>\n",
              "  </thead>\n",
              "  <tbody>\n",
              "    <tr>\n",
              "      <th>6</th>\n",
              "      <td>GradientBoostingRegressor()</td>\n",
              "      <td>0.839624</td>\n",
              "      <td>97931.235328</td>\n",
              "      <td>219.083712</td>\n",
              "      <td>0.839624</td>\n",
              "    </tr>\n",
              "    <tr>\n",
              "      <th>2</th>\n",
              "      <td>RandomForestRegressor()</td>\n",
              "      <td>0.838865</td>\n",
              "      <td>98394.738722</td>\n",
              "      <td>205.224712</td>\n",
              "      <td>0.838865</td>\n",
              "    </tr>\n",
              "    <tr>\n",
              "      <th>1</th>\n",
              "      <td>DecisionTreeRegressor()</td>\n",
              "      <td>0.779420</td>\n",
              "      <td>134694.138969</td>\n",
              "      <td>246.710092</td>\n",
              "      <td>0.779420</td>\n",
              "    </tr>\n",
              "    <tr>\n",
              "      <th>4</th>\n",
              "      <td>KNeighborsRegressor()</td>\n",
              "      <td>0.766057</td>\n",
              "      <td>142854.484431</td>\n",
              "      <td>241.931129</td>\n",
              "      <td>0.766057</td>\n",
              "    </tr>\n",
              "    <tr>\n",
              "      <th>0</th>\n",
              "      <td>LinearRegression()</td>\n",
              "      <td>0.755207</td>\n",
              "      <td>149479.889477</td>\n",
              "      <td>281.897349</td>\n",
              "      <td>0.755207</td>\n",
              "    </tr>\n",
              "    <tr>\n",
              "      <th>5</th>\n",
              "      <td>MLPRegressor()</td>\n",
              "      <td>0.529240</td>\n",
              "      <td>287463.383206</td>\n",
              "      <td>383.954314</td>\n",
              "      <td>0.529240</td>\n",
              "    </tr>\n",
              "    <tr>\n",
              "      <th>3</th>\n",
              "      <td>SVR()</td>\n",
              "      <td>-0.030171</td>\n",
              "      <td>629060.713978</td>\n",
              "      <td>552.032869</td>\n",
              "      <td>-0.030171</td>\n",
              "    </tr>\n",
              "  </tbody>\n",
              "</table>\n",
              "</div>"
            ],
            "text/plain": [
              "                         Model  Accuracy            MSE         MAE        R2\n",
              "6  GradientBoostingRegressor()  0.839624   97931.235328  219.083712  0.839624\n",
              "2      RandomForestRegressor()  0.838865   98394.738722  205.224712  0.838865\n",
              "1      DecisionTreeRegressor()  0.779420  134694.138969  246.710092  0.779420\n",
              "4        KNeighborsRegressor()  0.766057  142854.484431  241.931129  0.766057\n",
              "0           LinearRegression()  0.755207  149479.889477  281.897349  0.755207\n",
              "5               MLPRegressor()  0.529240  287463.383206  383.954314  0.529240\n",
              "3                        SVR() -0.030171  629060.713978  552.032869 -0.030171"
            ]
          },
          "execution_count": 58,
          "metadata": {},
          "output_type": "execute_result"
        }
      ],
      "source": [
        "result.sort_values(by=['MSE', 'MAE'])"
      ]
    },
    {
      "cell_type": "code",
      "execution_count": 59,
      "metadata": {},
      "outputs": [],
      "source": [
        "import torch\n",
        "import torch.nn as nn\n",
        "from torch.optim import Adam\n",
        "from tqdm import tqdm"
      ]
    },
    {
      "cell_type": "code",
      "execution_count": 60,
      "metadata": {},
      "outputs": [],
      "source": [
        "device = torch.device(\"cuda\" if torch.cuda.is_available() else \"cpu\")"
      ]
    },
    {
      "cell_type": "code",
      "execution_count": 61,
      "metadata": {},
      "outputs": [],
      "source": [
        "x_train = torch.tensor(x_train).float().to(device)\n",
        "x_test = torch.tensor(x_test).float().to(device)\n",
        "y_train = torch.tensor(y_train.to_numpy()).float().to(device)\n",
        "y_test = torch.tensor(y_test.to_numpy()).float().to(device)"
      ]
    },
    {
      "cell_type": "code",
      "execution_count": 106,
      "metadata": {},
      "outputs": [],
      "source": [
        "class NN(nn.Module):\n",
        "    def __init__(self, input):\n",
        "        super(NN, self).__init__()\n",
        "        self.fc1 = nn.Sequential(nn.Linear(input, round(input)),\n",
        "                                 nn.ReLU(),\n",
        "                                 nn.Linear(round(input), round(input / 2)),\n",
        "                                 nn.ReLU(),\n",
        "                                 nn.Linear(round(input / 2), round(input / 2)),\n",
        "                                 nn.ReLU(),\n",
        "                                 nn.Linear(round(input / 2), round(input / 4)),\n",
        "                                 nn.ReLU(),\n",
        "                                 nn.Linear(round(input / 4), 1))\n",
        "\n",
        "    def forward(self, x):\n",
        "        x = self.fc1(x)\n",
        "        return x"
      ]
    },
    {
      "cell_type": "code",
      "execution_count": 107,
      "metadata": {},
      "outputs": [
        {
          "data": {
            "text/plain": [
              "NN(\n",
              "  (fc1): Sequential(\n",
              "    (0): Linear(in_features=12, out_features=12, bias=True)\n",
              "    (1): ReLU()\n",
              "    (2): Linear(in_features=12, out_features=6, bias=True)\n",
              "    (3): ReLU()\n",
              "    (4): Linear(in_features=6, out_features=6, bias=True)\n",
              "    (5): ReLU()\n",
              "    (6): Linear(in_features=6, out_features=3, bias=True)\n",
              "    (7): ReLU()\n",
              "    (8): Linear(in_features=3, out_features=1, bias=True)\n",
              "  )\n",
              ")"
            ]
          },
          "execution_count": 107,
          "metadata": {},
          "output_type": "execute_result"
        }
      ],
      "source": [
        "model_nn = NN(len(x_train[0]))\n",
        "model_nn.to(device)"
      ]
    },
    {
      "cell_type": "code",
      "execution_count": 108,
      "metadata": {},
      "outputs": [],
      "source": [
        "optimizer = Adam(params=model_nn.parameters(), lr=1e-3)\n",
        "loss_func = nn.MSELoss()"
      ]
    },
    {
      "cell_type": "code",
      "execution_count": 109,
      "metadata": {},
      "outputs": [
        {
          "name": "stderr",
          "output_type": "stream",
          "text": [
            "Model training:   0%|          | 0/1000 [00:00<?, ?it/s]c:\\Users\\das-s\\AppData\\Local\\Programs\\Python\\Python311\\Lib\\site-packages\\torch\\nn\\modules\\loss.py:535: UserWarning: Using a target size (torch.Size([1018])) that is different to the input size (torch.Size([1018, 1])). This will likely lead to incorrect results due to broadcasting. Please ensure they have the same size.\n",
            "  return F.mse_loss(input, target, reduction=self.reduction)\n",
            "Model training: 100%|██████████| 1000/1000 [00:02<00:00, 421.66it/s, Current error = 485107.09375]\n"
          ]
        }
      ],
      "source": [
        "num_iter = 1000\n",
        "losses = []\n",
        "train_loop = tqdm(range(num_iter))\n",
        "train_loop.set_description_str(\"Model training\")\n",
        "for i in train_loop:\n",
        "    outputs = model_nn(x_train)\n",
        "    loss = loss_func(outputs, y_train)\n",
        "    losses.append(loss.item())\n",
        "    train_loop.set_postfix_str(f\"Current error = {loss.item()}\")\n",
        "    loss.backward()\n",
        "    optimizer.step()\n",
        "    optimizer.zero_grad()"
      ]
    },
    {
      "cell_type": "code",
      "execution_count": 110,
      "metadata": {},
      "outputs": [
        {
          "data": {
            "text/plain": [
              "[<matplotlib.lines.Line2D at 0x1d0387540d0>]"
            ]
          },
          "execution_count": 110,
          "metadata": {},
          "output_type": "execute_result"
        },
        {
          "data": {
            "image/png": "[encoded data removed]",
            "text/plain": [
              "<Figure size 640x480 with 1 Axes>"
            ]
          },
          "metadata": {},
          "output_type": "display_data"
        }
      ],
      "source": [
        "plt.plot(losses)"
      ]
    },
    {
      "cell_type": "code",
      "execution_count": 114,
      "metadata": {},
      "outputs": [
        {
          "name": "stdout",
          "output_type": "stream",
          "text": [
            "\n",
            "Real price = 1109.0\n",
            "Predicted price = 1212.18212890625\n"
          ]
        }
      ],
      "source": [
        "import random \n",
        "j = random.randint(0, len(y_test))\n",
        "\n",
        "print(f\"\\nReal price = {y_test[j].item()}\")\n",
        "print(f\"Predicted price = {model_nn(x_test[j]).item()}\")"
      ]
    },
    {
      "cell_type": "code",
      "execution_count": 115,
      "metadata": {},
      "outputs": [
        {
          "name": "stdout",
          "output_type": "stream",
          "text": [
            "mse =\t639002.875\n",
            "mae =\t566.251708984375\n"
          ]
        }
      ],
      "source": [
        "results = model_nn(x_test).cpu().detach().numpy()\n",
        "y_real = y_test.cpu().detach().numpy()\n",
        "mse = mean_squared_error(y_real, results)\n",
        "mae = mean_absolute_error(y_real, results)\n",
        "\n",
        "print(f\"mse =\\t{mse}\\nmae =\\t{mae}\")"
      ]
    }
  ],
  "metadata": {
    "colab": {
      "provenance": []
    },
    "kernelspec": {
      "display_name": "Python 3",
      "language": "python",
      "name": "python3"
    },
    "language_info": {
      "codemirror_mode": {
        "name": "ipython",
        "version": 3
      },
      "file_extension": ".py",
      "mimetype": "text/x-python",
      "name": "python",
      "nbconvert_exporter": "python",
      "pygments_lexer": "ipython3",
      "version": "3.11.6"
    }
  },
  "nbformat": 4,
  "nbformat_minor": 0
}
